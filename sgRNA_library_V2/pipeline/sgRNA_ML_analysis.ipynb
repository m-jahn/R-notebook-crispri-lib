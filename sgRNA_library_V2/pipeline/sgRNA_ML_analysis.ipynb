{
 "cells": [
  {
   "cell_type": "markdown",
   "id": "b513802a-dd67-4a81-9a95-fdbd0bfc3670",
   "metadata": {},
   "source": [
    "# Jupyter notebook: sgRNA sequence motifs correlating with repression strength\n",
    "\n",
    "## Overview\n",
    "\n",
    "This Jupyter notebook is an attempt to identify sequence motifs or variants in sgRNAs that improve or decrease the efficiency of CRISPRi reression.\n",
    "\n",
    "## Background\n",
    "\n",
    "Two CRISPRi libraries are available for Synechocystis, version 1.0 with only 2 sgRNAs and version 2.0 with on average 5 sgRNAs per gene.\n",
    "Each sgRNA targets the 5'-region of a gene, meaning the transcription start site (TSS) or the region downstream of it.\n",
    "The sgRNA mediates the binding efficiency of the dCas9 enzyme. However, previous and current sequencing results show that the repression strength is by no means uniform.\n",
    "In fact, variation between the efficiency of sgRNAs mediating repression is enormous. Repression efficiency is partly influenced by the distance to the TSS, and partly\n",
    "by unknown sequence features. Such features could be:\n",
    "\n",
    "- folding, secondary structures, such as hairpins\n",
    "- off target binding (competitive binding)\n",
    "- GC content\n",
    "- so far unknown motifs\n",
    "\n",
    "For details regarding the ongoing efforts to determine all gene's fitness contribution, see the [CRISPRi library github repository](https://github.com/m-jahn/R-notebook-crispri-lib) that contains this notebook and further information. The R analysis pipeline that led to the selection of the ncRNAs of interest can be viewed on [m-jahn.github.io](https://m-jahn.github.io/R-notebook-crispri-lib/CRISPRi_V2_data_processing.nb.html).\n",
    "\n",
    "Tasks:\n",
    "\n",
    "- import sgRNA sequences\n",
    "- import sgRNA fitness data and merge with sequences\n",
    "- group sgRNAs in different binding classes (or continuous target variable?)\n",
    "- determine sequence motifs that lead to high repression efficiency and/or correlation\n",
    "- determine sequence motifs that lead to low repression\n",
    "\n",
    "Strategy:\n",
    "\n",
    "- nucleotide sequence is available, needs to be trimmed and aligned\n",
    "- can be one-hot-encoded by position and nucleotide (pos1_A: T/F, pos1_T: T/F, ...)\n",
    "- test and apply different ML models:\n",
    "  - tree-based models including feature importance: Random Forest (RF), gradient boosting (GB)\n",
    "  - NN-based models without feature importance: MLP, CNN\n"
   ]
  },
  {
   "cell_type": "markdown",
   "id": "a311c3dc-8e3e-4c82-892a-c08a867608ab",
   "metadata": {},
   "source": [
    "## Import of required libraries"
   ]
  },
  {
   "cell_type": "code",
   "execution_count": 1,
   "id": "477871e0-7163-4211-ba18-e8a71a6e327e",
   "metadata": {},
   "outputs": [],
   "source": [
    "import pandas as pd\n",
    "import numpy as np\n",
    "import matplotlib.pyplot as plt\n",
    "import matplotlib as mpl\n",
    "import Bio.SeqIO\n",
    "from requests import get\n",
    "from io import StringIO"
   ]
  },
  {
   "cell_type": "markdown",
   "id": "e553477d-dc5c-46c9-8e66-9e06629eeb15",
   "metadata": {},
   "source": [
    "## Data import and re-arrangement\n",
    "\n",
    "The first task is to import the sequence data from a fasta file into a data frame.\n",
    "The data is stored as reference \"genome\" for read mapping, in the [CRISPRi NGS pipeline](https://github.com/m-jahn/CRISPRi-lib-pipe/) on github."
   ]
  },
  {
   "cell_type": "code",
   "execution_count": 2,
   "id": "bbbc1113-e6b9-48ae-ad8d-27e9d41164da",
   "metadata": {},
   "outputs": [
    {
     "name": "stdout",
     "output_type": "stream",
     "text": [
      "<Bio.SeqIO.FastaIO.FastaIterator object at 0x7f66e5463670>\n"
     ]
    }
   ],
   "source": [
    "dir_fasta_db = \"https://github.com/m-jahn/CRISPRi-lib-pipe/raw/main/ref/Synechocystis_v2.fasta\"\n",
    "con_fasta_db = get(dir_fasta_db, allow_redirects = True)\n",
    "fasta_db = Bio.SeqIO.parse(StringIO(con_fasta_db.text), \"fasta\")\n",
    "print(fasta_db)"
   ]
  },
  {
   "cell_type": "code",
   "execution_count": 3,
   "id": "860c13c0-88d2-446f-ac79-09d227389cf8",
   "metadata": {},
   "outputs": [],
   "source": [
    "# iterate through fasta DB connection and save results to list\n",
    "fivep_adapter = \"CAGTGATAGAGATACTGGGAGCTA\"\n",
    "threep_adapter = \"GTTTTAGAGCTAGAAATAGCAAGTTAAAAT\"\n",
    "\n",
    "fasta_id = []\n",
    "fasta_seq = []\n",
    "for fasta_record in fasta_db:\n",
    "    fasta_id.append(fasta_record.id)\n",
    "    threep_pos = fasta_record.seq.find(threep_adapter)\n",
    "    fasta_seq.append(fasta_record.seq[len(fivep_adapter) : threep_pos])"
   ]
  },
  {
   "cell_type": "code",
   "execution_count": 4,
   "id": "381449ce-7de5-426b-b457-59ad2e71f188",
   "metadata": {},
   "outputs": [],
   "source": [
    "# make new pd data frame from lists\n",
    "fasta_df = pd.DataFrame()"
   ]
  },
  {
   "cell_type": "code",
   "execution_count": 5,
   "id": "04933036-44e9-4cdd-beeb-8b767b5129f3",
   "metadata": {},
   "outputs": [],
   "source": [
    "fasta_df[\"sgRNA\"] = fasta_id\n",
    "fasta_df[\"seq\"] = fasta_seq\n",
    "fasta_df[\"seq_len\"] = [len(str(i)) for i in fasta_seq]"
   ]
  },
  {
   "cell_type": "markdown",
   "id": "1e4f178d-2279-475d-b414-c03a6ee7c351",
   "metadata": {},
   "source": [
    "The second task is to import the main data table with fitness, correlation and repression efficiency for every sgRNA."
   ]
  },
  {
   "cell_type": "code",
   "execution_count": 6,
   "id": "6b2e8ac9-36fb-4a9b-bb92-b63cdac137f2",
   "metadata": {},
   "outputs": [
    {
     "data": {
      "text/html": [
       "<div>\n",
       "<style scoped>\n",
       "    .dataframe tbody tr th:only-of-type {\n",
       "        vertical-align: middle;\n",
       "    }\n",
       "\n",
       "    .dataframe tbody tr th {\n",
       "        vertical-align: top;\n",
       "    }\n",
       "\n",
       "    .dataframe thead th {\n",
       "        text-align: right;\n",
       "    }\n",
       "</style>\n",
       "<table border=\"1\" class=\"dataframe\">\n",
       "  <thead>\n",
       "    <tr style=\"text-align: right;\">\n",
       "      <th></th>\n",
       "      <th>sgRNA</th>\n",
       "      <th>sgRNA_target</th>\n",
       "      <th>sgRNA_position</th>\n",
       "      <th>condition</th>\n",
       "      <th>time</th>\n",
       "      <th>log2FoldChange</th>\n",
       "      <th>fitness</th>\n",
       "      <th>sgRNA_index</th>\n",
       "      <th>sgRNA_type</th>\n",
       "      <th>locus</th>\n",
       "      <th>sgRNA_correlation</th>\n",
       "      <th>sgRNA_efficiency</th>\n",
       "    </tr>\n",
       "  </thead>\n",
       "  <tbody>\n",
       "    <tr>\n",
       "      <th>0</th>\n",
       "      <td>aat|22</td>\n",
       "      <td>aat</td>\n",
       "      <td>22</td>\n",
       "      <td>HC, HL</td>\n",
       "      <td>0</td>\n",
       "      <td>0.000000</td>\n",
       "      <td>0.060240</td>\n",
       "      <td>1</td>\n",
       "      <td>gene</td>\n",
       "      <td>sll0869</td>\n",
       "      <td>0.495179</td>\n",
       "      <td>0.402167</td>\n",
       "    </tr>\n",
       "    <tr>\n",
       "      <th>1</th>\n",
       "      <td>aat|22</td>\n",
       "      <td>aat</td>\n",
       "      <td>22</td>\n",
       "      <td>HC, HL</td>\n",
       "      <td>4</td>\n",
       "      <td>0.011120</td>\n",
       "      <td>0.060240</td>\n",
       "      <td>1</td>\n",
       "      <td>gene</td>\n",
       "      <td>sll0869</td>\n",
       "      <td>0.495179</td>\n",
       "      <td>0.402167</td>\n",
       "    </tr>\n",
       "    <tr>\n",
       "      <th>2</th>\n",
       "      <td>aat|22</td>\n",
       "      <td>aat</td>\n",
       "      <td>22</td>\n",
       "      <td>HC, HL</td>\n",
       "      <td>8</td>\n",
       "      <td>0.054991</td>\n",
       "      <td>0.060240</td>\n",
       "      <td>1</td>\n",
       "      <td>gene</td>\n",
       "      <td>sll0869</td>\n",
       "      <td>0.495179</td>\n",
       "      <td>0.402167</td>\n",
       "    </tr>\n",
       "    <tr>\n",
       "      <th>3</th>\n",
       "      <td>aat|22</td>\n",
       "      <td>aat</td>\n",
       "      <td>22</td>\n",
       "      <td>HC, HL</td>\n",
       "      <td>10</td>\n",
       "      <td>0.091747</td>\n",
       "      <td>0.060240</td>\n",
       "      <td>1</td>\n",
       "      <td>gene</td>\n",
       "      <td>sll0869</td>\n",
       "      <td>0.495179</td>\n",
       "      <td>0.402167</td>\n",
       "    </tr>\n",
       "    <tr>\n",
       "      <th>4</th>\n",
       "      <td>aat|22</td>\n",
       "      <td>aat</td>\n",
       "      <td>22</td>\n",
       "      <td>HC, IL</td>\n",
       "      <td>0</td>\n",
       "      <td>0.000000</td>\n",
       "      <td>0.354815</td>\n",
       "      <td>1</td>\n",
       "      <td>gene</td>\n",
       "      <td>sll0869</td>\n",
       "      <td>0.495179</td>\n",
       "      <td>0.402167</td>\n",
       "    </tr>\n",
       "  </tbody>\n",
       "</table>\n",
       "</div>"
      ],
      "text/plain": [
       "    sgRNA sgRNA_target  sgRNA_position condition  time  log2FoldChange  \\\n",
       "0  aat|22          aat              22    HC, HL     0        0.000000   \n",
       "1  aat|22          aat              22    HC, HL     4        0.011120   \n",
       "2  aat|22          aat              22    HC, HL     8        0.054991   \n",
       "3  aat|22          aat              22    HC, HL    10        0.091747   \n",
       "4  aat|22          aat              22    HC, IL     0        0.000000   \n",
       "\n",
       "    fitness  sgRNA_index sgRNA_type    locus  sgRNA_correlation  \\\n",
       "0  0.060240            1       gene  sll0869           0.495179   \n",
       "1  0.060240            1       gene  sll0869           0.495179   \n",
       "2  0.060240            1       gene  sll0869           0.495179   \n",
       "3  0.060240            1       gene  sll0869           0.495179   \n",
       "4  0.354815            1       gene  sll0869           0.495179   \n",
       "\n",
       "   sgRNA_efficiency  \n",
       "0          0.402167  \n",
       "1          0.402167  \n",
       "2          0.402167  \n",
       "3          0.402167  \n",
       "4          0.402167  "
      ]
     },
     "execution_count": 6,
     "metadata": {},
     "output_type": "execute_result"
    }
   ],
   "source": [
    "data = pd.read_csv(\"../data/output/fitness_sgRNA.csv\")\n",
    "data.iloc[:, 0:14].head(n = 5)"
   ]
  },
  {
   "cell_type": "markdown",
   "id": "f5a7bb6d-e7b9-419b-aa2b-6e1fd69f4afb",
   "metadata": {},
   "source": [
    "The data frame needs to be reduced/summarized to the desired shape. We don't need fitness and log2FC for all conditions and time points.\n",
    "All we need instead is 1 sgRNA per row, with:\n",
    "\n",
    "- mean absolute fitness effect over all conditions\n",
    "- repression efficiency (relative score between 0 and 1)\n",
    "- correlation (also relative score between 0 and 1)"
   ]
  },
  {
   "cell_type": "code",
   "execution_count": 7,
   "id": "098704bb-2ea7-45df-a083-b2b2450836c1",
   "metadata": {},
   "outputs": [],
   "source": [
    "data_reduced = data[[\"sgRNA\", \"sgRNA_target\", \"sgRNA_position\", \"sgRNA_correlation\", \"sgRNA_efficiency\", \"fitness\"]]"
   ]
  },
  {
   "cell_type": "code",
   "execution_count": 8,
   "id": "0c3b768d-11d6-4b08-9aae-dabf25a6b07d",
   "metadata": {},
   "outputs": [],
   "source": [
    "data_reduced = data_reduced.drop_duplicates()"
   ]
  },
  {
   "cell_type": "code",
   "execution_count": 9,
   "id": "fb8d6d67-0ed7-4cc2-aad7-df2602a56b61",
   "metadata": {},
   "outputs": [],
   "source": [
    "# summarize all sgRNAs to mean abs fitness etc\n",
    "data_reduced[\"fitness\"] = abs(data_reduced[\"fitness\"])\n",
    "data_reduced = data_reduced.groupby([\"sgRNA_target\", \"sgRNA\"]).mean()"
   ]
  },
  {
   "cell_type": "markdown",
   "id": "5fd8132d-51b9-48e4-9f3a-2d7f2039d0f1",
   "metadata": {
    "tags": []
   },
   "source": [
    "## Preparation for ML training and tuning\n",
    "\n",
    "1. Remove non-responsive genes (no sgRNA has an effect on fitness)\n",
    "2. Choose and optionally scale/bin target variable\n",
    "3. One-hot encode sgRNA sequences\n",
    "4. Split data into training and test data set\n",
    "\n",
    "### Task 1: Remove non-responsive genes\n",
    "\n",
    "Plot distribution of sgRNA fitness."
   ]
  },
  {
   "cell_type": "code",
   "execution_count": 10,
   "id": "45b722a3-4af5-4743-a769-2afb4162c3eb",
   "metadata": {},
   "outputs": [
    {
     "data": {
      "image/png": "[encoded data removed]",
      "text/plain": [
       "<Figure size 432x288 with 1 Axes>"
      ]
     },
     "metadata": {
      "needs_background": "light"
     },
     "output_type": "display_data"
    }
   ],
   "source": [
    "plt.hist(abs(data_reduced[\"fitness\"]), bins = 30);"
   ]
  },
  {
   "cell_type": "code",
   "execution_count": 11,
   "id": "361fd994-b002-49f3-a1ba-6f4de0a178a8",
   "metadata": {},
   "outputs": [
    {
     "data": {
      "image/png": "[encoded data removed]",
      "text/plain": [
       "<Figure size 432x288 with 1 Axes>"
      ]
     },
     "metadata": {
      "needs_background": "light"
     },
     "output_type": "display_data"
    }
   ],
   "source": [
    "plt.hist(abs(data_reduced[\"fitness\"]), bins = 30, log=True);"
   ]
  },
  {
   "cell_type": "code",
   "execution_count": 12,
   "id": "4e5d46ad-1e11-4f83-a78c-ffe68c764937",
   "metadata": {},
   "outputs": [],
   "source": [
    "# filter all genes out where no sgRNA exceeds fitness effect > 1 in any condition\n",
    "list_max_fitness = data_reduced.groupby(\"sgRNA_target\")[\"fitness\"].max()"
   ]
  },
  {
   "cell_type": "code",
   "execution_count": 13,
   "id": "d34d0309-2deb-44ef-bf4d-8c255f1fc7cc",
   "metadata": {},
   "outputs": [],
   "source": [
    "list_max_fitness = list_max_fitness[abs(list_max_fitness) > 1]"
   ]
  },
  {
   "cell_type": "code",
   "execution_count": 14,
   "id": "1cc7acff-e71b-4e09-8934-55e021661589",
   "metadata": {},
   "outputs": [
    {
     "data": {
      "text/html": [
       "<div>\n",
       "<style scoped>\n",
       "    .dataframe tbody tr th:only-of-type {\n",
       "        vertical-align: middle;\n",
       "    }\n",
       "\n",
       "    .dataframe tbody tr th {\n",
       "        vertical-align: top;\n",
       "    }\n",
       "\n",
       "    .dataframe thead th {\n",
       "        text-align: right;\n",
       "    }\n",
       "</style>\n",
       "<table border=\"1\" class=\"dataframe\">\n",
       "  <thead>\n",
       "    <tr style=\"text-align: right;\">\n",
       "      <th></th>\n",
       "      <th>sgRNA_target</th>\n",
       "      <th>sgRNA</th>\n",
       "      <th>sgRNA_position</th>\n",
       "      <th>sgRNA_correlation</th>\n",
       "      <th>sgRNA_efficiency</th>\n",
       "      <th>fitness_x</th>\n",
       "      <th>fitness_y</th>\n",
       "    </tr>\n",
       "  </thead>\n",
       "  <tbody>\n",
       "    <tr>\n",
       "      <th>0</th>\n",
       "      <td>Era</td>\n",
       "      <td>Era|10</td>\n",
       "      <td>10.0</td>\n",
       "      <td>0.981797</td>\n",
       "      <td>0.308089</td>\n",
       "      <td>0.974606</td>\n",
       "      <td>3.522669</td>\n",
       "    </tr>\n",
       "    <tr>\n",
       "      <th>1</th>\n",
       "      <td>Era</td>\n",
       "      <td>Era|25</td>\n",
       "      <td>25.0</td>\n",
       "      <td>0.972385</td>\n",
       "      <td>0.622677</td>\n",
       "      <td>1.861402</td>\n",
       "      <td>3.522669</td>\n",
       "    </tr>\n",
       "    <tr>\n",
       "      <th>2</th>\n",
       "      <td>Era</td>\n",
       "      <td>Era|39</td>\n",
       "      <td>39.0</td>\n",
       "      <td>0.975454</td>\n",
       "      <td>0.218752</td>\n",
       "      <td>0.885958</td>\n",
       "      <td>3.522669</td>\n",
       "    </tr>\n",
       "    <tr>\n",
       "      <th>3</th>\n",
       "      <td>Era</td>\n",
       "      <td>Era|64</td>\n",
       "      <td>64.0</td>\n",
       "      <td>0.976020</td>\n",
       "      <td>0.290091</td>\n",
       "      <td>0.907332</td>\n",
       "      <td>3.522669</td>\n",
       "    </tr>\n",
       "    <tr>\n",
       "      <th>4</th>\n",
       "      <td>Era</td>\n",
       "      <td>Era|76</td>\n",
       "      <td>76.0</td>\n",
       "      <td>0.610723</td>\n",
       "      <td>1.000000</td>\n",
       "      <td>3.522669</td>\n",
       "      <td>3.522669</td>\n",
       "    </tr>\n",
       "  </tbody>\n",
       "</table>\n",
       "</div>"
      ],
      "text/plain": [
       "  sgRNA_target   sgRNA  sgRNA_position  sgRNA_correlation  sgRNA_efficiency  \\\n",
       "0          Era  Era|10            10.0           0.981797          0.308089   \n",
       "1          Era  Era|25            25.0           0.972385          0.622677   \n",
       "2          Era  Era|39            39.0           0.975454          0.218752   \n",
       "3          Era  Era|64            64.0           0.976020          0.290091   \n",
       "4          Era  Era|76            76.0           0.610723          1.000000   \n",
       "\n",
       "   fitness_x  fitness_y  \n",
       "0   0.974606   3.522669  \n",
       "1   1.861402   3.522669  \n",
       "2   0.885958   3.522669  \n",
       "3   0.907332   3.522669  \n",
       "4   3.522669   3.522669  "
      ]
     },
     "execution_count": 14,
     "metadata": {},
     "output_type": "execute_result"
    }
   ],
   "source": [
    "data_reduced = data_reduced.reset_index().merge(list_max_fitness, on = \"sgRNA_target\")\n",
    "#data_reduced = data_reduced.query('sgRNA_correlation > 0.5')\n",
    "data_reduced.head(5)"
   ]
  },
  {
   "cell_type": "markdown",
   "id": "7807579f-40b0-4a65-adc6-2b67457c9d8e",
   "metadata": {},
   "source": [
    "### Task 2: Scale and bin target variable\n",
    "\n",
    "Target variable is sgRNA efficiency, a relative score between 0 (no effect on fitness) and 1 (maximum effect on fitness).\n",
    "Scaling can therefore be omitted.\n",
    "\n",
    "- if target variable is taken as is, the ML problem becomes a regression problem\n",
    "- if target variable is binned into e.g. 5 bins of width 0.2, the problem becomes a classification problem\n"
   ]
  },
  {
   "cell_type": "code",
   "execution_count": 15,
   "id": "c3ec0583-a300-4e7a-b542-70f4e8d1b2ef",
   "metadata": {},
   "outputs": [],
   "source": [
    "list_bins = [\"0-low\", \"1-high\"]#[\"0-low\", \"1-med\", \"2-high\"]\n",
    "data_reduced[\"efficiency_binned\"] = pd.cut(data_reduced[\"sgRNA_efficiency\"], len(list_bins), labels = list_bins)"
   ]
  },
  {
   "cell_type": "code",
   "execution_count": 16,
   "id": "44934670-29bd-4b36-a1ed-2c66f3e99729",
   "metadata": {},
   "outputs": [
    {
     "data": {
      "text/plain": [
       "0       0.308089\n",
       "1       0.622677\n",
       "2       0.218752\n",
       "3       0.290091\n",
       "4       1.000000\n",
       "          ...   \n",
       "6391    1.000000\n",
       "6392    0.030921\n",
       "6393    0.100192\n",
       "6394    0.022564\n",
       "6395    0.047291\n",
       "Name: sgRNA_efficiency, Length: 6396, dtype: float64"
      ]
     },
     "execution_count": 16,
     "metadata": {},
     "output_type": "execute_result"
    }
   ],
   "source": [
    "data_reduced[\"sgRNA_efficiency\"]"
   ]
  },
  {
   "cell_type": "code",
   "execution_count": 17,
   "id": "66e1eb1b-7a81-4397-ac2d-a1c22b8ef4f5",
   "metadata": {},
   "outputs": [
    {
     "data": {
      "image/png": "[encoded data removed]",
      "text/plain": [
       "<Figure size 432x288 with 1 Axes>"
      ]
     },
     "metadata": {
      "needs_background": "light"
     },
     "output_type": "display_data"
    }
   ],
   "source": [
    "data_bin_sum = data_reduced.groupby(\"efficiency_binned\").size()\n",
    "plt.bar(x = data_bin_sum.index, height=data_bin_sum);"
   ]
  },
  {
   "cell_type": "markdown",
   "id": "11729882-ea4a-4702-bbbd-aedf8f872f15",
   "metadata": {},
   "source": [
    "### Task 3: Prepare feature matrix\n",
    "\n",
    "- Alignment to left (5') or right (3') end, because sgRNA length varies\n",
    "- sgRNAs have variable length. Need to trim and/or pad them to a common length\n",
    "- One hot encoding of sgRNA sequences"
   ]
  },
  {
   "cell_type": "code",
   "execution_count": 18,
   "id": "26bf4ead-fcb8-4180-9c43-026af9800a73",
   "metadata": {},
   "outputs": [
    {
     "name": "stdout",
     "output_type": "stream",
     "text": [
      "17 22\n"
     ]
    }
   ],
   "source": [
    "# filter fasta df to only sgRNAs that show an effect (common set with data)\n",
    "fasta_df_reduced = pd.merge(fasta_df, data_reduced, how = 'inner', on = 'sgRNA')\n",
    "print(min(fasta_df_reduced.seq_len), max(fasta_df_reduced.seq_len))"
   ]
  },
  {
   "cell_type": "code",
   "execution_count": 19,
   "id": "b1fe68bf-d56d-48ef-8f0c-4236d51eac97",
   "metadata": {},
   "outputs": [
    {
     "name": "stdout",
     "output_type": "stream",
     "text": [
      "GCCCAGTGGCGGCTGTANNN\n"
     ]
    }
   ],
   "source": [
    "# align seq by inverting and optionally trimming and padding with N\n",
    "def align_and_pad(seq, n_max = 25):\n",
    "    inv_seq = seq.reverse_complement().complement()\n",
    "    len_seq = len(inv_seq)\n",
    "    if len_seq < n_max:\n",
    "        inv_seq = inv_seq + \"N\"*(n_max-len_seq)\n",
    "    elif len_seq > n_max:\n",
    "        inv_seq = inv_seq[ : n_max]\n",
    "    return(inv_seq)\n",
    "    \n",
    "# test inversion and padding\n",
    "print(align_and_pad(fasta_df_reduced.seq[0], n_max = 20))"
   ]
  },
  {
   "cell_type": "code",
   "execution_count": 20,
   "id": "b9e9ff2a-3e9a-40ce-a965-c0e6135882c5",
   "metadata": {},
   "outputs": [],
   "source": [
    "# apply to all sgRNAs\n",
    "fasta_df_reduced[\"seq_inv\"] = [align_and_pad(i, n_max = 22) for i in fasta_df_reduced.seq]"
   ]
  },
  {
   "cell_type": "markdown",
   "id": "0b36a9d9-77e1-446d-846d-1c57f4f86b6a",
   "metadata": {},
   "source": [
    "**Shape of the data as input for scikit learn**\n",
    "\n",
    "- data is always a 2D array, shape (n_samples, n_features)\n",
    "- features should be **one hot encoded**: all cateogrical variables are spread to an list/array with binary encoding (0 OR 1) for yes and no"
   ]
  },
  {
   "cell_type": "code",
   "execution_count": 21,
   "id": "323754e8-4393-4770-8628-39c900624125",
   "metadata": {},
   "outputs": [],
   "source": [
    "def onehot(s):\n",
    "    z = []\n",
    "    for nt in str(s):\n",
    "        if not nt in \"AaCcGgTtNn\":\n",
    "            print(\"Non-ATGCU character: \" + nt)\n",
    "            raise Exception\n",
    "        if nt in \"Aa\": z.append(1)\n",
    "        else: z.append(0)\n",
    "        if nt in \"Cc\": z.append(1)\n",
    "        else: z.append(0)\n",
    "        if nt in \"Gg\": z.append(1)\n",
    "        else: z.append(0)\n",
    "        if nt in \"Tt\": z.append(1)\n",
    "        else: z.append(0)\n",
    "        if nt in \"Nn\": z.append(1)\n",
    "        else: z.append(0)\n",
    "    return(z)"
   ]
  },
  {
   "cell_type": "code",
   "execution_count": 22,
   "id": "eb50b37c-1216-4343-a8e4-7cb8345f9930",
   "metadata": {},
   "outputs": [],
   "source": [
    "fasta_df_reduced[\"seq_onehot\"] = fasta_df_reduced.seq_inv.apply(onehot)"
   ]
  },
  {
   "cell_type": "markdown",
   "id": "265d0dde-9928-49a7-9c69-614d64a5e4b6",
   "metadata": {},
   "source": [
    "- finally turn pd.Series/DF into an array with dimensions n_observations x n_features\n",
    "- also turn target variable into an array of length n_observations"
   ]
  },
  {
   "cell_type": "code",
   "execution_count": 23,
   "id": "87b82039-4424-44c9-beda-fda5fb35a5e5",
   "metadata": {},
   "outputs": [],
   "source": [
    "array_fasta = np.array(fasta_df_reduced.seq_onehot.to_list())\n",
    "array_target = fasta_df_reduced.efficiency_binned.to_numpy()"
   ]
  },
  {
   "cell_type": "markdown",
   "id": "e6123e80-195c-455d-91bd-7e3b2a74e8d4",
   "metadata": {},
   "source": [
    "- split into training and validation set (80%/20%)"
   ]
  },
  {
   "cell_type": "code",
   "execution_count": 24,
   "id": "66e3f103-73de-450e-af4d-4b9b142e3184",
   "metadata": {},
   "outputs": [],
   "source": [
    "from sklearn.model_selection import train_test_split\n",
    "x_train, x_test, y_train, y_test = train_test_split(array_fasta, array_target, test_size = 0.25)"
   ]
  },
  {
   "cell_type": "code",
   "execution_count": 25,
   "id": "897be65a-5522-41ea-afc6-8b9982578e68",
   "metadata": {},
   "outputs": [
    {
     "name": "stdout",
     "output_type": "stream",
     "text": [
      "4797\n",
      "1599\n",
      "4797\n",
      "1599\n"
     ]
    }
   ],
   "source": [
    "for i in [x_train, x_test, y_train, y_test]:\n",
    "    print(len(i))"
   ]
  },
  {
   "cell_type": "markdown",
   "id": "19c81890-c8b8-4acd-ae6b-6362444b3631",
   "metadata": {},
   "source": [
    "## Logos to visualize sequence motifs\n",
    "\n",
    "- logos are visualizations for nucleotide probability or prevalence of a set of aligned sequences\n",
    "- can use the python package `logomaker` installed with `pip install logomaker`\n",
    "- separate logos for low, (medium), high efficiency sgRNAs"
   ]
  },
  {
   "cell_type": "code",
   "execution_count": 26,
   "id": "d98f0b68-ec8d-4ef7-a3b0-e78a83a2b3ca",
   "metadata": {},
   "outputs": [],
   "source": [
    "import logomaker"
   ]
  },
  {
   "cell_type": "code",
   "execution_count": 27,
   "id": "f7cae912-b08d-4ea5-be85-6a6faf7c42cd",
   "metadata": {},
   "outputs": [],
   "source": [
    "# function to take a pd.Series with sequences as input and plot a logo\n",
    "def plot_logo(data, to_type = 'weight', ignore = 'N', title = ''):\n",
    "    data_str = [str(i) for i in data]\n",
    "    data_logo = logomaker.alignment_to_matrix(\n",
    "        data_str, to_type = to_type,\n",
    "        characters_to_ignore = ignore)\n",
    "    title = '{0} (n = {1})'.format(title, len(data_str))\n",
    "    logo = logomaker.Logo(\n",
    "        data_logo,\n",
    "        shade_below = 0.5,\n",
    "        fade_below = 0.5,\n",
    "        color_scheme = 'colorblind_safe'\n",
    "    )\n",
    "    logo.ax.set_ylim([-0.85, 0.6])\n",
    "    logo.ax.text(0, 0.65, title,fontsize = 14)"
   ]
  },
  {
   "cell_type": "code",
   "execution_count": 28,
   "id": "4d38cf2e-d54d-4794-b32b-f30c738e2136",
   "metadata": {},
   "outputs": [
    {
     "data": {
      "image/png": "[encoded data removed]",
      "text/plain": [
       "<Figure size 720x180 with 1 Axes>"
      ]
     },
     "metadata": {
      "needs_background": "light"
     },
     "output_type": "display_data"
    },
    {
     "data": {
      "image/png": "[encoded data removed]",
      "text/plain": [
       "<Figure size 720x180 with 1 Axes>"
      ]
     },
     "metadata": {
      "needs_background": "light"
     },
     "output_type": "display_data"
    },
    {
     "data": {
      "image/png": "[encoded data removed]",
      "text/plain": [
       "<Figure size 720x180 with 1 Axes>"
      ]
     },
     "metadata": {
      "needs_background": "light"
     },
     "output_type": "display_data"
    }
   ],
   "source": [
    "# Logo for ALL sgRNAs combined\n",
    "plot_logo(fasta_df_reduced.seq_inv, title = 'All sgRNAs')\n",
    "\n",
    "# Logo for LOW EFFICIENCY sgRNAs\n",
    "for i in list_bins:\n",
    "    plot_logo(\n",
    "        data = fasta_df_reduced.query('efficiency_binned == \"' + i + '\"').seq_inv,\n",
    "        title = i)"
   ]
  },
  {
   "cell_type": "markdown",
   "id": "89a32392-9449-4517-b096-c0e265475333",
   "metadata": {},
   "source": [
    "Conclusions:\n",
    "\n",
    "- clear relationship of sgRNA sequence and repression efficiency\n",
    "- high efficiency sgRNAs enriched for 'G' and depleted for 'A' or 'T' in position 4-14 proximal to PAM site\n",
    "- low efficiency sgRNAs are not enriched for a specific sequence pattern (no neg. selection criterion)\n",
    "- med efficiency sgRNAs are in fact a mixture of the two above patterns (slight enrichment of 'G' stretch)"
   ]
  },
  {
   "cell_type": "markdown",
   "id": "e4210d6d-0d07-4357-a259-c5f7c522200f",
   "metadata": {},
   "source": [
    "## Model 1: Support vector machine\n",
    "\n",
    "Some useful advice from the scikit-learn page\n",
    "\n",
    "- Avoiding data copy: Data passed to certain methods will be copied before calling the underlying C implementation. Check if numpy array is C-contiguous by inspecting its flags attribute\n",
    "- Kernel cache size: has a strong impact on run times for larger problems. If you have enough RAM available, increase cache_size to a higher value\n",
    "- Setting C: C is 1 by default and it’s a reasonable default choice. If you have a lot of noisy observations you should decrease it\n",
    "- Larger C values will take more time to train, sometimes up to 10 times longer\n",
    "- SVM algorithms are not scale invariant, so it is highly recommended to scale your data (scale all features to [0,1] or [-1,+1]. This was done in our example.\n",
    "- Kernel functions: can be  one of linear (most simple), polynomial (`degree`, `coef0`), radial basis function (RBF, `gamma` > 0) or sigmoid (`coef0`)"
   ]
  },
  {
   "cell_type": "markdown",
   "id": "fd0a3e30-939f-4763-b8f4-8d528d4ca579",
   "metadata": {},
   "source": [
    "Important parameters for fitting:\n",
    "\n",
    "- `kernel`: the main parameter that determines the type of hyperplane for dividing n-D feature vectors\n",
    "- `n_jobs = -1`: uses all cores instead of 1 (the default)\n",
    "- `cv`: number of k-fold cross validations, default 5 can be left"
   ]
  },
  {
   "cell_type": "code",
   "execution_count": 29,
   "id": "644c5976-5159-48fb-a309-af4bfffc0c5a",
   "metadata": {},
   "outputs": [],
   "source": [
    "from sklearn import svm\n",
    "from sklearn import preprocessing\n",
    "from sklearn.model_selection import GridSearchCV\n",
    "from sklearn.model_selection import RandomizedSearchCV\n",
    "from sklearn.metrics import classification_report\n",
    "from sklearn.metrics import confusion_matrix, ConfusionMatrixDisplay"
   ]
  },
  {
   "cell_type": "code",
   "execution_count": 30,
   "id": "f292b975-532e-4213-90d1-e62835307e67",
   "metadata": {},
   "outputs": [
    {
     "name": "stdout",
     "output_type": "stream",
     "text": [
      "{'C': 0.75, 'gamma': 0.05, 'kernel': 'rbf'}\n",
      "CPU times: user 1.44 s, sys: 153 ms, total: 1.59 s\n",
      "Wall time: 1min 28s\n"
     ]
    }
   ],
   "source": [
    "%%time\n",
    "# Model tuning\n",
    "param_grid = {\n",
    "    'kernel': ['rbf', 'linear'],\n",
    "    'C': [0.5, 0.75, 1, 1.5, 2],\n",
    "    'gamma': [0.01, 0.05, 0.1, 0.5, 1, 5]}\n",
    "SVM = svm.SVC()\n",
    "SVM_tune = GridSearchCV(SVM, param_grid, n_jobs = -1)\n",
    "SVM_tune.fit(x_train[: 2000], y_train[: 2000])\n",
    "print(SVM_tune.best_params_)"
   ]
  },
  {
   "cell_type": "code",
   "execution_count": 31,
   "id": "45624719-2ab1-4c63-a121-5b4004b8733a",
   "metadata": {},
   "outputs": [],
   "source": [
    "# Model fitting & prediction\n",
    "SVM = svm.SVC(**SVM_tune.best_params_, probability = True, class_weight = \"balanced\")\n",
    "SVM_fit = SVM.fit(x_train, y_train)\n",
    "SVM_pred = SVM_fit.predict(x_test)"
   ]
  },
  {
   "cell_type": "code",
   "execution_count": 32,
   "id": "901bbdff-07f4-457d-8796-ebb67657b5c9",
   "metadata": {},
   "outputs": [
    {
     "name": "stdout",
     "output_type": "stream",
     "text": [
      "SVM train accuracy: 0.647\n",
      "              precision    recall  f1-score   support\n",
      "\n",
      "       0-low       0.70      0.67      0.69       987\n",
      "      1-high       0.50      0.53      0.51       612\n",
      "\n",
      "    accuracy                           0.62      1599\n",
      "   macro avg       0.60      0.60      0.60      1599\n",
      "weighted avg       0.62      0.62      0.62      1599\n",
      "\n"
     ]
    }
   ],
   "source": [
    "print(\"SVM train accuracy: %0.3f\" % SVM_tune.score(x_test, y_test))\n",
    "print(classification_report(y_test, SVM_pred))"
   ]
  },
  {
   "cell_type": "markdown",
   "id": "396f4451-ace7-4bc8-8914-ead46a0726a9",
   "metadata": {},
   "source": [
    "- test predictive power of the model\n",
    "- predict classes of validation data set and make confusion matrix"
   ]
  },
  {
   "cell_type": "code",
   "execution_count": 33,
   "id": "3492a285-3ef7-4d24-8a8c-4375176cd77f",
   "metadata": {},
   "outputs": [
    {
     "data": {
      "image/png": "[encoded data removed]",
      "text/plain": [
       "<Figure size 432x288 with 2 Axes>"
      ]
     },
     "metadata": {
      "needs_background": "light"
     },
     "output_type": "display_data"
    }
   ],
   "source": [
    "# x-axis: predictions; y-axis: ground truth\n",
    "SVM_cm = confusion_matrix(y_test, SVM_pred, labels = SVM_fit.classes_)\n",
    "SVM_cmplot = ConfusionMatrixDisplay(SVM_cm, display_labels = SVM_fit.classes_)\n",
    "SVM_cmplot.plot();"
   ]
  },
  {
   "cell_type": "markdown",
   "id": "5114a15b-8eb5-4e25-aa3e-daba7fced58b",
   "metadata": {},
   "source": [
    "## Model 2: Random Forest or Gradient Boosting Machine\n",
    "\n",
    "- Both model types decision tree based, RF with global tree refinement, GBM with local iterative refinement\n",
    "- Fully tractable models: not only prediction of classes, but also feature importance\n",
    "- Very important aspect of our question: Which positions/nucleotides of the sgRNA are particularly important?\n",
    "- This question is almost more important than prediciting quality of sgRNAs, as it can be used to derive generalized rules"
   ]
  },
  {
   "cell_type": "code",
   "execution_count": 34,
   "id": "ec7649f5-fb17-42e3-b287-d094165dde39",
   "metadata": {},
   "outputs": [],
   "source": [
    "from sklearn.ensemble import RandomForestClassifier"
   ]
  },
  {
   "cell_type": "code",
   "execution_count": 35,
   "id": "3d65da79-8645-4bff-8434-e23f7b066613",
   "metadata": {},
   "outputs": [
    {
     "name": "stdout",
     "output_type": "stream",
     "text": [
      "{'max_depth': 25, 'max_features': 'sqrt', 'n_estimators': 400}\n",
      "CPU times: user 2.74 s, sys: 76.6 ms, total: 2.82 s\n",
      "Wall time: 2min 2s\n"
     ]
    }
   ],
   "source": [
    "%%time\n",
    "# Model tuning\n",
    "param_grid = {\n",
    "    'n_estimators': [20, 50, 100, 200, 300, 400],\n",
    "    'max_features': ['auto', 'sqrt'],\n",
    "    'max_depth': [5, 10, 25, 50, 100]}\n",
    "\n",
    "RF = RandomForestClassifier()\n",
    "RF_tune = GridSearchCV(RF, param_grid, n_jobs = -1)\n",
    "RF_tune.fit(x_train[: 2000], y_train[ : 2000])\n",
    "print(RF_tune.best_params_)"
   ]
  },
  {
   "cell_type": "code",
   "execution_count": 36,
   "id": "37934f3f-6238-47ee-bd0d-58f8f15f97de",
   "metadata": {},
   "outputs": [],
   "source": [
    "# Model fitting & prediction\n",
    "RF = RandomForestClassifier(**RF_tune.best_params_, class_weight = \"balanced\")\n",
    "RF_fit = RF.fit(x_train, y_train, )\n",
    "RF_pred = RF_fit.predict(x_test)"
   ]
  },
  {
   "cell_type": "code",
   "execution_count": 37,
   "id": "6d508d47-3664-41b8-a20b-091f2927dd18",
   "metadata": {},
   "outputs": [
    {
     "name": "stdout",
     "output_type": "stream",
     "text": [
      "RF train accuracy: 0.631\n",
      "              precision    recall  f1-score   support\n",
      "\n",
      "       0-low       0.65      0.94      0.76       987\n",
      "      1-high       0.62      0.17      0.27       612\n",
      "\n",
      "    accuracy                           0.64      1599\n",
      "   macro avg       0.63      0.55      0.52      1599\n",
      "weighted avg       0.64      0.64      0.57      1599\n",
      "\n"
     ]
    }
   ],
   "source": [
    "print(\"RF train accuracy: %0.3f\" % RF_tune.score(x_test, y_test))\n",
    "print(classification_report(y_test, RF_pred))"
   ]
  },
  {
   "cell_type": "code",
   "execution_count": 38,
   "id": "bf6be315-6234-42d6-b581-51f6631c4f85",
   "metadata": {},
   "outputs": [
    {
     "data": {
      "image/png": "[encoded data removed]",
      "text/plain": [
       "<Figure size 432x288 with 2 Axes>"
      ]
     },
     "metadata": {
      "needs_background": "light"
     },
     "output_type": "display_data"
    }
   ],
   "source": [
    "RF_cm = confusion_matrix(y_test, RF_pred, labels = SVM_fit.classes_)\n",
    "RF_cmplot = ConfusionMatrixDisplay(RF_cm, display_labels = SVM_fit.classes_)\n",
    "RF_cmplot.plot();"
   ]
  },
  {
   "cell_type": "markdown",
   "id": "7b490cc2-725e-43e0-a466-6a8dda817246",
   "metadata": {},
   "source": [
    "- finally visualize **feature importance** for the RF model\n",
    "- SVMs and NNs do not have feature importance readily available, they are more black box models\n",
    "- since the model does not (yet) performs well, the feature importance has not much meaning"
   ]
  },
  {
   "cell_type": "code",
   "execution_count": 39,
   "id": "a2623978-7400-4e1c-90cb-b74f79df43b4",
   "metadata": {},
   "outputs": [
    {
     "data": {
      "image/png": "[encoded data removed]",
      "text/plain": [
       "<Figure size 432x288 with 1 Axes>"
      ]
     },
     "metadata": {
      "needs_background": "light"
     },
     "output_type": "display_data"
    }
   ],
   "source": [
    "RF_feat_imp = pd.DataFrame()\n",
    "RF_feat_imp['feat_imp'] = pd.Series(RF_fit.feature_importances_)\n",
    "RF_feat_imp['position'] = np.repeat(np.arange(22), 5)\n",
    "RF_feat_imp['base'] = ['A','C','G','T','N']*22\n",
    "RF_feat_imp = RF_feat_imp.query('base != \"N\"')\n",
    "\n",
    "\n",
    "fig, ax = plt.subplots()\n",
    "ax.bar(np.arange(1,23) - 0.4, RF_feat_imp.query('base == \"A\"').feat_imp, 0.2, label = 'A')\n",
    "ax.bar(np.arange(1,23) - 0.2, RF_feat_imp.query('base == \"C\"').feat_imp, 0.2, label = 'C')\n",
    "ax.bar(np.arange(1,23) + 0.0, RF_feat_imp.query('base == \"G\"').feat_imp, 0.2, label = 'G')\n",
    "ax.bar(np.arange(1,23) + 0.2, RF_feat_imp.query('base == \"T\"').feat_imp, 0.2, label = 'T')\n",
    "ax.set_ylabel('feature importance')\n",
    "ax.set_xlabel('position [bp]')\n",
    "ax.legend()\n",
    "plt.show()"
   ]
  },
  {
   "cell_type": "markdown",
   "id": "664ece33-2905-4155-9dfa-5e41cea1d7b4",
   "metadata": {},
   "source": [
    "## Model 3: Gradient bossting machine (GBM)\n",
    "\n",
    "- based on decision trees, similar to RF"
   ]
  },
  {
   "cell_type": "code",
   "execution_count": 40,
   "id": "272821ab-6279-4d6d-a9b8-943e83e36836",
   "metadata": {},
   "outputs": [],
   "source": [
    "from sklearn.ensemble import GradientBoostingClassifier"
   ]
  },
  {
   "cell_type": "code",
   "execution_count": 41,
   "id": "6f733906-7566-47fe-a222-f7cf9249b373",
   "metadata": {},
   "outputs": [
    {
     "name": "stdout",
     "output_type": "stream",
     "text": [
      "{'learning_rate': 0.5, 'max_depth': 1, 'n_estimators': 200}\n",
      "CPU times: user 1.53 s, sys: 64.1 ms, total: 1.59 s\n",
      "Wall time: 2min 17s\n"
     ]
    }
   ],
   "source": [
    "%%time\n",
    "# Model tuning\n",
    "param_grid = {\n",
    "    'n_estimators': [20, 50, 100, 200, 300, 400],\n",
    "    'learning_rate': [0.1, 0.5, 1.0],\n",
    "    'max_depth': [1, 2, 3]}\n",
    "\n",
    "GBM = GradientBoostingClassifier()\n",
    "GBM_tune = GridSearchCV(GBM, param_grid, n_jobs = -1)\n",
    "GBM_tune.fit(x_train[: 2000], y_train[ : 2000])\n",
    "print(GBM_tune.best_params_)"
   ]
  },
  {
   "cell_type": "code",
   "execution_count": 42,
   "id": "bec9588a-06a4-474f-aa2f-5ee6c603247d",
   "metadata": {},
   "outputs": [],
   "source": [
    "# Model fitting & prediction\n",
    "GBM = GradientBoostingClassifier(**GBM_tune.best_params_)\n",
    "GBM_fit = GBM.fit(x_train, y_train, )\n",
    "GBM_pred = GBM_fit.predict(x_test)"
   ]
  },
  {
   "cell_type": "code",
   "execution_count": 43,
   "id": "d5041172-413a-4b96-9e97-bb6ca47bedd8",
   "metadata": {},
   "outputs": [
    {
     "name": "stdout",
     "output_type": "stream",
     "text": [
      "GBM train accuracy: 0.625\n",
      "              precision    recall  f1-score   support\n",
      "\n",
      "       0-low       0.66      0.87      0.75       987\n",
      "      1-high       0.58      0.29      0.39       612\n",
      "\n",
      "    accuracy                           0.65      1599\n",
      "   macro avg       0.62      0.58      0.57      1599\n",
      "weighted avg       0.63      0.65      0.61      1599\n",
      "\n"
     ]
    }
   ],
   "source": [
    "print(\"GBM train accuracy: %0.3f\" % GBM_tune.score(x_test, y_test))\n",
    "print(classification_report(y_test, GBM_pred))"
   ]
  },
  {
   "cell_type": "code",
   "execution_count": 44,
   "id": "a9c1c9ac-a952-4b0e-8e0e-4c11d9c09653",
   "metadata": {},
   "outputs": [
    {
     "data": {
      "image/png": "[encoded data removed]",
      "text/plain": [
       "<Figure size 432x288 with 2 Axes>"
      ]
     },
     "metadata": {
      "needs_background": "light"
     },
     "output_type": "display_data"
    }
   ],
   "source": [
    "GBM_cm = confusion_matrix(y_test, GBM_pred, labels = SVM_fit.classes_)\n",
    "GBM_cmplot = ConfusionMatrixDisplay(GBM_cm, display_labels = SVM_fit.classes_)\n",
    "GBM_cmplot.plot();"
   ]
  },
  {
   "cell_type": "markdown",
   "id": "5d94c25d-4707-4f2f-b67f-d4ca7166dc4f",
   "metadata": {},
   "source": [
    "Conclusions from all models so far:\n",
    "\n",
    "- tree based methods performed poorly\n",
    "- main difficulty was to identify med and high performing sgRNAs\n",
    "- further steps: try a CNN, or try to predict interesting seq features from SVM by probability"
   ]
  },
  {
   "cell_type": "markdown",
   "id": "6965be8c-8c45-4273-abdd-152c52ef506d",
   "metadata": {},
   "source": [
    "## Model 4: Multi-layer perceptron\n",
    "\n",
    "- for this purpose we try tensorflow + keras\n",
    "- some background: MLP or other neural networks consist of one or several layers of 'neurons' or nodes\n",
    "- input data can be multidimensional, in our case it's simply a one-hot-encoded array of i observations x j features\n",
    "- input features are passed to first layer of NN, transformed by a function, and passed to the next layer\n",
    "- nodes are highly interconnected so that traits from multiple features get 'recognized' and passed to next layer\n",
    "- each node generates only one output value $y$ from multiple feature inputs $x$: $y = \\sigma \\times (\\sum(w_i \\times x_i) + b)$\n",
    "- with $x$ being a feature value, $w$ a weight factor, $b$ a learnable bias, and $\\sigma$ an activation/cost function)\n",
    "- training a neural network usually means to vary (optimize) the weight parameter $w$ for each node such that the cost (difference between expected output and obtained output) is minimized\n",
    "- one difference to the other ML models is that target variable (labels) need to be one hot encoded too\n",
    "- y therefore needs to be an array i observations x j number of different labels"
   ]
  },
  {
   "cell_type": "code",
   "execution_count": 45,
   "id": "1b5ee211-6f22-4966-b83e-9eb0defb079d",
   "metadata": {},
   "outputs": [
    {
     "name": "stderr",
     "output_type": "stream",
     "text": [
      "2022-02-16 11:26:39.937548: W tensorflow/stream_executor/platform/default/dso_loader.cc:64] Could not load dynamic library 'libcudart.so.11.0'; dlerror: libcudart.so.11.0: cannot open shared object file: No such file or directory\n",
      "2022-02-16 11:26:39.937581: I tensorflow/stream_executor/cuda/cudart_stub.cc:29] Ignore above cudart dlerror if you do not have a GPU set up on your machine.\n"
     ]
    }
   ],
   "source": [
    "from keras import Sequential\n",
    "from keras import layers\n",
    "from keras import optimizers\n",
    "from keras import utils"
   ]
  },
  {
   "cell_type": "code",
   "execution_count": 46,
   "id": "5ff3ad80-d6ca-4887-9afb-aab63f69a3ab",
   "metadata": {},
   "outputs": [
    {
     "name": "stdout",
     "output_type": "stream",
     "text": [
      "(4797, 110)\n",
      "(1599, 110)\n",
      "(4797, 2)\n",
      "(1599, 2)\n"
     ]
    }
   ],
   "source": [
    "# preprocess labels: convert to numerical, and also one-hot-encode\n",
    "# similar to input features (binary output)\n",
    "y_train_ohe = preprocessing.LabelEncoder().fit_transform(y = y_train)\n",
    "y_test_ohe = preprocessing.LabelEncoder().fit_transform(y = y_test)\n",
    "\n",
    "y_train_ohe = utils.np_utils.to_categorical(y_train_ohe, num_classes = len(list_bins))\n",
    "y_test_ohe = utils.np_utils.to_categorical(y_test_ohe, num_classes = len(list_bins))\n",
    "\n",
    "print(x_train.shape)\n",
    "print(x_test.shape)\n",
    "print(y_train_ohe.shape)\n",
    "print(y_test_ohe.shape)"
   ]
  },
  {
   "cell_type": "markdown",
   "id": "f427a194-060c-4b83-927c-4c9ce829a56b",
   "metadata": {},
   "source": [
    "- build model"
   ]
  },
  {
   "cell_type": "code",
   "execution_count": 102,
   "id": "ce188101-9063-46bf-9b03-038d5a34bc1a",
   "metadata": {},
   "outputs": [],
   "source": [
    "MLP = Sequential(name='MLP')\n",
    "\n",
    "# Layer 1\n",
    "MLP.add(layers.core.Dense(128, activation='relu', input_dim=x_train.shape[1]))\n",
    "#MLP.add(layers.core.Dropout(rate=0.5))\n",
    "\n",
    "# Layer 2\n",
    "MLP.add(layers.core.Dense(16, activation='relu'))\n",
    "#MLP.add(layers.core.Dropout(rate=0.5))\n",
    "\n",
    "# Layer 3\n",
    "MLP.add(layers.core.Dense(len(list_bins), activation='softmax'))\n",
    "MLP.compile(optimizers.sgd_experimental.SGD(learning_rate=0.01, momentum = 0.5, nesterov=True),\n",
    "    loss='categorical_crossentropy',\n",
    "    metrics=['accuracy'])"
   ]
  },
  {
   "cell_type": "code",
   "execution_count": 103,
   "id": "5afe5232-994f-4fd3-bffc-3134595dbff1",
   "metadata": {},
   "outputs": [
    {
     "name": "stdout",
     "output_type": "stream",
     "text": [
      "Model: \"MLP\"\n",
      "_________________________________________________________________\n",
      " Layer (type)                Output Shape              Param #   \n",
      "=================================================================\n",
      " dense_27 (Dense)            (None, 128)               14208     \n",
      "                                                                 \n",
      " dense_28 (Dense)            (None, 16)                2064      \n",
      "                                                                 \n",
      " dense_29 (Dense)            (None, 2)                 34        \n",
      "                                                                 \n",
      "=================================================================\n",
      "Total params: 16,306\n",
      "Trainable params: 16,306\n",
      "Non-trainable params: 0\n",
      "_________________________________________________________________\n",
      "None\n"
     ]
    }
   ],
   "source": [
    "print(MLP.summary())"
   ]
  },
  {
   "cell_type": "markdown",
   "id": "1bfa7776-0d39-42de-8a3b-fdd5716b69fa",
   "metadata": {},
   "source": [
    "- training and evaluation\n",
    "- `precision` = fraction of relevant instances among the retrieved instances (TP/(TP+FP))\n",
    "- `recall` = fraction of relevant instances that were retrieved (also called sensitivity, TP/(TP+FN))\n",
    "- `specificity` - fraction of non-relevant instances that were retrieved (TN/(TN+FP))\n",
    "\n"
   ]
  },
  {
   "cell_type": "code",
   "execution_count": 104,
   "id": "7eeb65d7-c925-4947-b1f8-621df83f5da8",
   "metadata": {},
   "outputs": [],
   "source": [
    "MLP_fit = MLP.fit(x_train, y_train_ohe, epochs = 100, batch_size = 32, verbose=False)"
   ]
  },
  {
   "cell_type": "code",
   "execution_count": 105,
   "id": "c18dea24-aa82-4ef3-a20c-b801af476391",
   "metadata": {},
   "outputs": [
    {
     "name": "stdout",
     "output_type": "stream",
     "text": [
      "50/50 [==============================] - 0s 2ms/step - loss: 2.0222 - accuracy: 0.6066\n"
     ]
    },
    {
     "data": {
      "text/plain": [
       "(1599, 2)"
      ]
     },
     "execution_count": 105,
     "metadata": {},
     "output_type": "execute_result"
    }
   ],
   "source": [
    "MLP.evaluate(x_test, y_test_ohe)\n",
    "MLP_pred = MLP.predict(x_test)\n",
    "MLP_pred.shape"
   ]
  },
  {
   "cell_type": "code",
   "execution_count": 106,
   "id": "4e271886-e07d-4925-b650-02239b6a3db7",
   "metadata": {},
   "outputs": [
    {
     "name": "stdout",
     "output_type": "stream",
     "text": [
      "              precision    recall  f1-score   support\n",
      "\n",
      "           0       0.67      0.73      0.70       987\n",
      "           1       0.48      0.41      0.44       612\n",
      "\n",
      "    accuracy                           0.61      1599\n",
      "   macro avg       0.57      0.57      0.57      1599\n",
      "weighted avg       0.60      0.61      0.60      1599\n",
      "\n"
     ]
    },
    {
     "data": {
      "image/png": "[encoded data removed]",
      "text/plain": [
       "<Figure size 432x288 with 2 Axes>"
      ]
     },
     "metadata": {
      "needs_background": "light"
     },
     "output_type": "display_data"
    }
   ],
   "source": [
    "# convert OHE array back to factor with labels\n",
    "y_test_class = np.argmax(y_test_ohe, axis=1)\n",
    "y_pred_class = np.argmax(MLP_pred, axis=1)\n",
    "\n",
    "MLP_cm = confusion_matrix(y_test_class, y_pred_class)\n",
    "MLP_cmplot = ConfusionMatrixDisplay(MLP_cm)\n",
    "MLP_cmplot.plot();\n",
    "print(classification_report(y_test_class, y_pred_class))"
   ]
  },
  {
   "cell_type": "code",
   "execution_count": 107,
   "id": "e2cfd7e0-d16f-4774-ab01-f2f66d48fb04",
   "metadata": {},
   "outputs": [
    {
     "data": {
      "image/png": "[encoded data removed]",
      "text/plain": [
       "<Figure size 432x288 with 1 Axes>"
      ]
     },
     "metadata": {
      "needs_background": "light"
     },
     "output_type": "display_data"
    }
   ],
   "source": [
    "# plot accuracy and loss over model training\n",
    "df_MLP = pd.DataFrame.from_dict(MLP_fit.history)\n",
    "df_MLP['accuracy'].plot(legend = True);\n",
    "df_MLP['loss'].plot(legend = True);"
   ]
  },
  {
   "cell_type": "markdown",
   "id": "87dba23d-060d-431b-89b2-68a5821b6c7e",
   "metadata": {
    "tags": []
   },
   "source": [
    "Conclusions:\n",
    "\n",
    "- best performing models were SVM and MLP\n",
    "- overall accuracy 60% which is not great\n",
    "- precision and recall are highest (70%) for low efficency sgRNAs\n",
    "- precision and recall around 50% for high efficiency sgRNAs"
   ]
  },
  {
   "cell_type": "markdown",
   "id": "ac3f2abb-1835-45c0-9887-2884655d45e3",
   "metadata": {},
   "source": [
    "## Sequence motifs of high efficiency sgRNAs\n",
    "\n",
    "- inspect sgRNAs with top predicted performance closer\n",
    "- try to identify sequence patterns that might be enriched using clustering"
   ]
  },
  {
   "cell_type": "code",
   "execution_count": null,
   "id": "80c12a30-04f7-403b-9227-6867b4cd38c6",
   "metadata": {},
   "outputs": [],
   "source": []
  }
 ],
 "metadata": {
  "kernelspec": {
   "display_name": "Python 3",
   "language": "python",
   "name": "python3"
  },
  "language_info": {
   "codemirror_mode": {
    "name": "ipython",
    "version": 3
   },
   "file_extension": ".py",
   "mimetype": "text/x-python",
   "name": "python",
   "nbconvert_exporter": "python",
   "pygments_lexer": "ipython3",
   "version": "3.9.7"
  },
  "toc-autonumbering": true,
  "toc-showmarkdowntxt": false
 },
 "nbformat": 4,
 "nbformat_minor": 5
}
