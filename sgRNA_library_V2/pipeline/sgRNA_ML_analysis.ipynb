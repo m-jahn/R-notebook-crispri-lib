{
 "cells": [
  {
   "cell_type": "markdown",
   "id": "b513802a-dd67-4a81-9a95-fdbd0bfc3670",
   "metadata": {},
   "source": [
    "# Jupyter notebook: sgRNA sequence motifs correlating with repression strength\n",
    "\n",
    "## Overview\n",
    "\n",
    "This Jupyter notebook is an attempt to identify sequence motifs or variants in sgRNAs that improve or decrease the efficiency of CRISPRi reression.\n",
    "\n",
    "## Background\n",
    "\n",
    "Two CRISPRi libraries are available for Synechocystis, version 1.0 with only 2 sgRNAs and version 2.0 with on average 5 sgRNAs per gene.\n",
    "Each sgRNA targets the 5'-region of a gene, meaning the transcription start site (TSS) or the region downstream of it.\n",
    "The sgRNA mediates the binding efficiency of the dCas9 enzyme. However, previous and current sequencing results show that the repression strength is by no means uniform.\n",
    "In fact, variation between the efficiency of sgRNAs mediating repression is enormous. Repression efficiency is partly influenced by the distance to the TSS, and partly\n",
    "by unknown sequence features. Such features could be:\n",
    "\n",
    "- folding, secondary structures, such as hairpins\n",
    "- off target binding (competitive binding)\n",
    "- GC content\n",
    "- so far unknown motifs\n",
    "\n",
    "For details regarding the ongoing efforts to determine all gene's fitness contribution, see the [CRISPRi library github repository](https://github.com/m-jahn/R-notebook-crispri-lib) that contains this notebook and further information. The R analysis pipeline that led to the selection of the ncRNAs of interest can be viewed on [m-jahn.github.io](https://m-jahn.github.io/R-notebook-crispri-lib/CRISPRi_V2_data_processing.nb.html).\n",
    "\n",
    "Tasks:\n",
    "\n",
    "- import sgRNA sequences\n",
    "- import sgRNA fitness data and merge with sequences\n",
    "- group sgRNAs in different binding classes (or continuous target variable?)\n",
    "- determine sequence motifs that lead to high repression efficiency and/or correlation\n",
    "- determine sequence motifs that lead to low repression\n",
    "\n",
    "Strategy:\n",
    "\n",
    "- nucleotide sequence is available, needs to be trimmed and aligned\n",
    "- can be one-hot-encoded by position and nucleotide (pos1_A: T/F, pos1_T: T/F, ...)\n",
    "- test and apply different ML models:\n",
    "  - tree-based models including feature importance: Random Forest (RF), gradient boosting (GB)\n",
    "  - NN-based models without feature importance: MLP, CNN\n"
   ]
  },
  {
   "cell_type": "markdown",
   "id": "a311c3dc-8e3e-4c82-892a-c08a867608ab",
   "metadata": {},
   "source": [
    "## Import of required libraries"
   ]
  },
  {
   "cell_type": "code",
   "execution_count": 1,
   "id": "477871e0-7163-4211-ba18-e8a71a6e327e",
   "metadata": {},
   "outputs": [],
   "source": [
    "import pandas as pd\n",
    "import numpy as np\n",
    "import matplotlib.pyplot as plt\n",
    "import matplotlib as mpl\n",
    "import seaborn as sb\n",
    "import Bio.SeqIO\n",
    "from requests import get\n",
    "from io import StringIO"
   ]
  },
  {
   "cell_type": "markdown",
   "id": "e553477d-dc5c-46c9-8e66-9e06629eeb15",
   "metadata": {},
   "source": [
    "## Data import and re-arrangement\n",
    "\n",
    "The first task is to import the sequence data from a fasta file into a data frame.\n",
    "The data is stored as reference \"genome\" for read mapping, in the [CRISPRi NGS pipeline](https://github.com/m-jahn/CRISPRi-lib-pipe/) on github."
   ]
  },
  {
   "cell_type": "code",
   "execution_count": 33,
   "id": "bbbc1113-e6b9-48ae-ad8d-27e9d41164da",
   "metadata": {},
   "outputs": [],
   "source": [
    "dir_fasta_db = \"https://github.com/m-jahn/CRISPRi-lib-pipe/raw/main/ref/Synechocystis_v2.fasta\"\n",
    "con_fasta_db = get(dir_fasta_db, allow_redirects = True)\n",
    "fasta_db = Bio.SeqIO.parse(StringIO(con_fasta_db.text), \"fasta\")"
   ]
  },
  {
   "cell_type": "code",
   "execution_count": 34,
   "id": "860c13c0-88d2-446f-ac79-09d227389cf8",
   "metadata": {},
   "outputs": [],
   "source": [
    "# iterate through fasta DB connection and save results to list\n",
    "fivep_adapter = \"CAGTGATAGAGATACTGGGAGCTA\"\n",
    "threep_adapter = \"GTTTTAGAGCTAGAAATAGCAAGTTAAAAT\"\n",
    "\n",
    "fasta_id = []\n",
    "fasta_seq = []\n",
    "for fasta_record in fasta_db:\n",
    "    fasta_id.append(fasta_record.id)\n",
    "    threep_pos = fasta_record.seq.find(threep_adapter)\n",
    "    fasta_seq.append(fasta_record.seq[len(fivep_adapter) : threep_pos])"
   ]
  },
  {
   "cell_type": "code",
   "execution_count": 39,
   "id": "381449ce-7de5-426b-b457-59ad2e71f188",
   "metadata": {},
   "outputs": [],
   "source": [
    "# make new pd data frame from lists\n",
    "fasta_df = pd.DataFrame()"
   ]
  },
  {
   "cell_type": "code",
   "execution_count": 40,
   "id": "04933036-44e9-4cdd-beeb-8b767b5129f3",
   "metadata": {},
   "outputs": [],
   "source": [
    "fasta_df[\"sgRNA_target\"] = fasta_id\n",
    "fasta_df[\"seq\"] = fasta_seq\n",
    "fasta_df[\"seq_len\"] = [len(str(i)) for i in fasta_seq]"
   ]
  },
  {
   "cell_type": "markdown",
   "id": "1e4f178d-2279-475d-b414-c03a6ee7c351",
   "metadata": {},
   "source": [
    "The second task is to import the main data table with fitness, correlation and repression efficiency for every sgRNA."
   ]
  },
  {
   "cell_type": "code",
   "execution_count": 82,
   "id": "6b2e8ac9-36fb-4a9b-bb92-b63cdac137f2",
   "metadata": {},
   "outputs": [
    {
     "data": {
      "text/html": [
       "<div>\n",
       "<style scoped>\n",
       "    .dataframe tbody tr th:only-of-type {\n",
       "        vertical-align: middle;\n",
       "    }\n",
       "\n",
       "    .dataframe tbody tr th {\n",
       "        vertical-align: top;\n",
       "    }\n",
       "\n",
       "    .dataframe thead th {\n",
       "        text-align: right;\n",
       "    }\n",
       "</style>\n",
       "<table border=\"1\" class=\"dataframe\">\n",
       "  <thead>\n",
       "    <tr style=\"text-align: right;\">\n",
       "      <th></th>\n",
       "      <th>sgRNA</th>\n",
       "      <th>sgRNA_target</th>\n",
       "      <th>sgRNA_position</th>\n",
       "      <th>condition</th>\n",
       "      <th>carbon</th>\n",
       "      <th>light</th>\n",
       "      <th>treatment</th>\n",
       "      <th>date</th>\n",
       "      <th>time</th>\n",
       "      <th>log2FoldChange</th>\n",
       "      <th>lfcSE</th>\n",
       "      <th>stat</th>\n",
       "      <th>pvalue</th>\n",
       "      <th>padj</th>\n",
       "    </tr>\n",
       "  </thead>\n",
       "  <tbody>\n",
       "    <tr>\n",
       "      <th>0</th>\n",
       "      <td>aat|22</td>\n",
       "      <td>aat</td>\n",
       "      <td>22</td>\n",
       "      <td>HC, HL</td>\n",
       "      <td>HC</td>\n",
       "      <td>HL</td>\n",
       "      <td>NaN</td>\n",
       "      <td>2021_02_07</td>\n",
       "      <td>0</td>\n",
       "      <td>0.000000</td>\n",
       "      <td>0.000000</td>\n",
       "      <td>NaN</td>\n",
       "      <td>1.000000</td>\n",
       "      <td>1.000000</td>\n",
       "    </tr>\n",
       "    <tr>\n",
       "      <th>1</th>\n",
       "      <td>aat|22</td>\n",
       "      <td>aat</td>\n",
       "      <td>22</td>\n",
       "      <td>HC, HL</td>\n",
       "      <td>HC</td>\n",
       "      <td>HL</td>\n",
       "      <td>NaN</td>\n",
       "      <td>2021_02_09</td>\n",
       "      <td>4</td>\n",
       "      <td>0.011120</td>\n",
       "      <td>0.118747</td>\n",
       "      <td>0.115747</td>\n",
       "      <td>0.907853</td>\n",
       "      <td>0.972060</td>\n",
       "    </tr>\n",
       "    <tr>\n",
       "      <th>2</th>\n",
       "      <td>aat|22</td>\n",
       "      <td>aat</td>\n",
       "      <td>22</td>\n",
       "      <td>HC, HL</td>\n",
       "      <td>HC</td>\n",
       "      <td>HL</td>\n",
       "      <td>NaN</td>\n",
       "      <td>2021_02_11</td>\n",
       "      <td>8</td>\n",
       "      <td>0.054991</td>\n",
       "      <td>0.122096</td>\n",
       "      <td>0.533672</td>\n",
       "      <td>0.593569</td>\n",
       "      <td>0.721617</td>\n",
       "    </tr>\n",
       "    <tr>\n",
       "      <th>3</th>\n",
       "      <td>aat|22</td>\n",
       "      <td>aat</td>\n",
       "      <td>22</td>\n",
       "      <td>HC, HL</td>\n",
       "      <td>HC</td>\n",
       "      <td>HL</td>\n",
       "      <td>NaN</td>\n",
       "      <td>2021_02_12</td>\n",
       "      <td>10</td>\n",
       "      <td>0.091747</td>\n",
       "      <td>0.126932</td>\n",
       "      <td>1.013406</td>\n",
       "      <td>0.310866</td>\n",
       "      <td>0.443794</td>\n",
       "    </tr>\n",
       "    <tr>\n",
       "      <th>4</th>\n",
       "      <td>aat|22</td>\n",
       "      <td>aat</td>\n",
       "      <td>22</td>\n",
       "      <td>HC, IL</td>\n",
       "      <td>HC</td>\n",
       "      <td>IL</td>\n",
       "      <td>NaN</td>\n",
       "      <td>2021_09_28</td>\n",
       "      <td>0</td>\n",
       "      <td>0.000000</td>\n",
       "      <td>0.000000</td>\n",
       "      <td>NaN</td>\n",
       "      <td>1.000000</td>\n",
       "      <td>1.000000</td>\n",
       "    </tr>\n",
       "  </tbody>\n",
       "</table>\n",
       "</div>"
      ],
      "text/plain": [
       "    sgRNA sgRNA_target  sgRNA_position condition carbon light treatment  \\\n",
       "0  aat|22          aat              22    HC, HL     HC    HL       NaN   \n",
       "1  aat|22          aat              22    HC, HL     HC    HL       NaN   \n",
       "2  aat|22          aat              22    HC, HL     HC    HL       NaN   \n",
       "3  aat|22          aat              22    HC, HL     HC    HL       NaN   \n",
       "4  aat|22          aat              22    HC, IL     HC    IL       NaN   \n",
       "\n",
       "         date  time  log2FoldChange     lfcSE      stat    pvalue      padj  \n",
       "0  2021_02_07     0        0.000000  0.000000       NaN  1.000000  1.000000  \n",
       "1  2021_02_09     4        0.011120  0.118747  0.115747  0.907853  0.972060  \n",
       "2  2021_02_11     8        0.054991  0.122096  0.533672  0.593569  0.721617  \n",
       "3  2021_02_12    10        0.091747  0.126932  1.013406  0.310866  0.443794  \n",
       "4  2021_09_28     0        0.000000  0.000000       NaN  1.000000  1.000000  "
      ]
     },
     "execution_count": 82,
     "metadata": {},
     "output_type": "execute_result"
    }
   ],
   "source": [
    "data = pd.read_csv(\"../data/output/fitness_sgRNA.csv\")\n",
    "data.iloc[:, 0:14].head(n = 5)"
   ]
  },
  {
   "cell_type": "markdown",
   "id": "f5a7bb6d-e7b9-419b-aa2b-6e1fd69f4afb",
   "metadata": {},
   "source": [
    "The data frame needs to be reduced/summarized to the desired shape. We don't need fitness and log2FC for all conditions and time points.\n",
    "All we need instead is 1 sgRNA per row, with:\n",
    "\n",
    "- mean absolute fitness effect over all conditions\n",
    "- repression efficiency (relative score between 0 and 1)\n",
    "- correlation (also relative score between 0 and 1)"
   ]
  },
  {
   "cell_type": "code",
   "execution_count": 133,
   "id": "098704bb-2ea7-45df-a083-b2b2450836c1",
   "metadata": {},
   "outputs": [],
   "source": [
    "data_reduced = data[[\"sgRNA\", \"sgRNA_target\", \"sgRNA_position\", \"sgRNA_correlation\", \"sgRNA_efficiency\", \"fitness\"]]"
   ]
  },
  {
   "cell_type": "code",
   "execution_count": null,
   "id": "0c3b768d-11d6-4b08-9aae-dabf25a6b07d",
   "metadata": {},
   "outputs": [],
   "source": [
    "data_reduced = data_reduced.groupby([\"sgRNA_target\", \"sgRNA\"]).mean()"
   ]
  },
  {
   "cell_type": "markdown",
   "id": "e3213828-7db3-4f1a-82e3-4833a89e99e8",
   "metadata": {},
   "source": [
    "## Preparation for ML training and tuning\n",
    "\n",
    "1. Remove non-responsive genes (no sgRNA has an effect on fitness)\n",
    "2. Choose and optionally scale/bin target variable\n",
    "3. One-hot encode sgRNA sequences\n",
    "4. Split data into training and test data set"
   ]
  },
  {
   "cell_type": "code",
   "execution_count": 131,
   "id": "4d352416-6bbc-4149-bda3-b8a1774f2c07",
   "metadata": {},
   "outputs": [
    {
     "data": {
      "image/png": "[encoded data removed]",
      "text/plain": [
       "<Figure size 432x288 with 1 Axes>"
      ]
     },
     "metadata": {
      "needs_background": "light"
     },
     "output_type": "display_data"
    }
   ],
   "source": [
    "plt.hist(abs(data_reduced[\"fitness\"]), bins = 30);"
   ]
  },
  {
   "cell_type": "code",
   "execution_count": 130,
   "id": "ced8e58f-202e-431e-abf0-6bb1cede2602",
   "metadata": {},
   "outputs": [
    {
     "data": {
      "image/png": "[encoded data removed]",
      "text/plain": [
       "<Figure size 432x288 with 1 Axes>"
      ]
     },
     "metadata": {
      "needs_background": "light"
     },
     "output_type": "display_data"
    }
   ],
   "source": [
    "plt.hist(abs(data_reduced[\"fitness\"]), bins = 30, log=True);"
   ]
  },
  {
   "cell_type": "code",
   "execution_count": null,
   "id": "c3ec0583-a300-4e7a-b542-70f4e8d1b2ef",
   "metadata": {},
   "outputs": [],
   "source": [
    "abs(data_reduced[\"fitness\"]) >= 1"
   ]
  },
  {
   "cell_type": "code",
   "execution_count": 135,
   "id": "f355373a-914f-40a6-8b3c-9e7a2145b3e6",
   "metadata": {},
   "outputs": [
    {
     "data": {
      "text/html": [
       "<div>\n",
       "<style scoped>\n",
       "    .dataframe tbody tr th:only-of-type {\n",
       "        vertical-align: middle;\n",
       "    }\n",
       "\n",
       "    .dataframe tbody tr th {\n",
       "        vertical-align: top;\n",
       "    }\n",
       "\n",
       "    .dataframe thead th {\n",
       "        text-align: right;\n",
       "    }\n",
       "</style>\n",
       "<table border=\"1\" class=\"dataframe\">\n",
       "  <thead>\n",
       "    <tr style=\"text-align: right;\">\n",
       "      <th></th>\n",
       "      <th>sgRNA_position</th>\n",
       "      <th>sgRNA_correlation</th>\n",
       "      <th>sgRNA_efficiency</th>\n",
       "      <th>fitness</th>\n",
       "    </tr>\n",
       "    <tr>\n",
       "      <th>sgRNA</th>\n",
       "      <th></th>\n",
       "      <th></th>\n",
       "      <th></th>\n",
       "      <th></th>\n",
       "    </tr>\n",
       "  </thead>\n",
       "  <tbody>\n",
       "    <tr>\n",
       "      <th>AT103|115</th>\n",
       "      <td>115.0</td>\n",
       "      <td>0.595502</td>\n",
       "      <td>0.469862</td>\n",
       "      <td>0.135691</td>\n",
       "    </tr>\n",
       "    <tr>\n",
       "      <th>AT103|18</th>\n",
       "      <td>18.0</td>\n",
       "      <td>0.514383</td>\n",
       "      <td>0.360110</td>\n",
       "      <td>0.023831</td>\n",
       "    </tr>\n",
       "    <tr>\n",
       "      <th>AT103|34</th>\n",
       "      <td>34.0</td>\n",
       "      <td>0.443806</td>\n",
       "      <td>1.000000</td>\n",
       "      <td>-0.098526</td>\n",
       "    </tr>\n",
       "    <tr>\n",
       "      <th>AT103|57</th>\n",
       "      <td>57.0</td>\n",
       "      <td>0.651909</td>\n",
       "      <td>0.255254</td>\n",
       "      <td>0.103907</td>\n",
       "    </tr>\n",
       "    <tr>\n",
       "      <th>AT103|7</th>\n",
       "      <td>7.0</td>\n",
       "      <td>0.591169</td>\n",
       "      <td>0.562867</td>\n",
       "      <td>0.201842</td>\n",
       "    </tr>\n",
       "    <tr>\n",
       "      <th>...</th>\n",
       "      <td>...</td>\n",
       "      <td>...</td>\n",
       "      <td>...</td>\n",
       "      <td>...</td>\n",
       "    </tr>\n",
       "    <tr>\n",
       "      <th>zwf|100</th>\n",
       "      <td>100.0</td>\n",
       "      <td>0.889456</td>\n",
       "      <td>0.560450</td>\n",
       "      <td>0.097857</td>\n",
       "    </tr>\n",
       "    <tr>\n",
       "      <th>zwf|117</th>\n",
       "      <td>117.0</td>\n",
       "      <td>0.913516</td>\n",
       "      <td>1.000000</td>\n",
       "      <td>-0.495144</td>\n",
       "    </tr>\n",
       "    <tr>\n",
       "      <th>zwf|128</th>\n",
       "      <td>128.0</td>\n",
       "      <td>0.931130</td>\n",
       "      <td>0.704501</td>\n",
       "      <td>0.025069</td>\n",
       "    </tr>\n",
       "    <tr>\n",
       "      <th>zwf|21</th>\n",
       "      <td>21.0</td>\n",
       "      <td>0.958998</td>\n",
       "      <td>0.675415</td>\n",
       "      <td>-0.253196</td>\n",
       "    </tr>\n",
       "    <tr>\n",
       "      <th>zwf|38</th>\n",
       "      <td>38.0</td>\n",
       "      <td>0.944024</td>\n",
       "      <td>0.826968</td>\n",
       "      <td>-0.161492</td>\n",
       "    </tr>\n",
       "  </tbody>\n",
       "</table>\n",
       "<p>16478 rows × 4 columns</p>\n",
       "</div>"
      ],
      "text/plain": [
       "           sgRNA_position  sgRNA_correlation  sgRNA_efficiency   fitness\n",
       "sgRNA                                                                   \n",
       "AT103|115           115.0           0.595502          0.469862  0.135691\n",
       "AT103|18             18.0           0.514383          0.360110  0.023831\n",
       "AT103|34             34.0           0.443806          1.000000 -0.098526\n",
       "AT103|57             57.0           0.651909          0.255254  0.103907\n",
       "AT103|7               7.0           0.591169          0.562867  0.201842\n",
       "...                   ...                ...               ...       ...\n",
       "zwf|100             100.0           0.889456          0.560450  0.097857\n",
       "zwf|117             117.0           0.913516          1.000000 -0.495144\n",
       "zwf|128             128.0           0.931130          0.704501  0.025069\n",
       "zwf|21               21.0           0.958998          0.675415 -0.253196\n",
       "zwf|38               38.0           0.944024          0.826968 -0.161492\n",
       "\n",
       "[16478 rows x 4 columns]"
      ]
     },
     "execution_count": 135,
     "metadata": {},
     "output_type": "execute_result"
    }
   ],
   "source": [
    "data_reduced"
   ]
  }
 ],
 "metadata": {
  "kernelspec": {
   "display_name": "Python 3",
   "language": "python",
   "name": "python3"
  },
  "language_info": {
   "codemirror_mode": {
    "name": "ipython",
    "version": 3
   },
   "file_extension": ".py",
   "mimetype": "text/x-python",
   "name": "python",
   "nbconvert_exporter": "python",
   "pygments_lexer": "ipython3",
   "version": "3.9.7"
  }
 },
 "nbformat": 4,
 "nbformat_minor": 5
}
