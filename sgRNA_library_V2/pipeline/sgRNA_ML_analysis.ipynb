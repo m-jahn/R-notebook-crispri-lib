{
 "cells": [
  {
   "cell_type": "markdown",
   "id": "b513802a-dd67-4a81-9a95-fdbd0bfc3670",
   "metadata": {},
   "source": [
    "# Jupyter notebook: sgRNA sequence motifs correlating with repression strength\n",
    "\n",
    "## Overview\n",
    "\n",
    "This Jupyter notebook is an attempt to identify sequence motifs or variants in sgRNAs that improve or decrease the efficiency of CRISPRi reression.\n",
    "\n",
    "## Background\n",
    "\n",
    "Two CRISPRi libraries are available for Synechocystis, version 1.0 with only 2 sgRNAs and version 2.0 with on average 5 sgRNAs per gene.\n",
    "Each sgRNA targets the 5'-region of a gene, meaning the transcription start site (TSS) or the region downstream of it.\n",
    "The sgRNA mediates the binding efficiency of the dCas9 enzyme. However, previous and current sequencing results show that the repression strength is by no means uniform.\n",
    "In fact, variation between the efficiency of sgRNAs mediating repression is enormous. Repression efficiency is partly influenced by the distance to the TSS, and partly\n",
    "by unknown sequence features. Such features could be:\n",
    "\n",
    "- folding, secondary structures, such as hairpins\n",
    "- off target binding (competitive binding)\n",
    "- GC content\n",
    "- so far unknown motifs\n",
    "\n",
    "For details regarding the ongoing efforts to determine all gene's fitness contribution, see the [CRISPRi library github repository](https://github.com/m-jahn/R-notebook-crispri-lib) that contains this notebook and further information. The R analysis pipeline that led to the selection of the ncRNAs of interest can be viewed on [m-jahn.github.io](https://m-jahn.github.io/R-notebook-crispri-lib/CRISPRi_V2_data_processing.nb.html).\n",
    "\n",
    "Tasks:\n",
    "\n",
    "- import sgRNA sequences\n",
    "- import sgRNA fitness data and merge with sequences\n",
    "- group sgRNAs in different binding classes (or continuous target variable?)\n",
    "- determine sequence motifs that lead to high repression efficiency and/or correlation\n",
    "- determine sequence motifs that lead to low repression\n",
    "\n",
    "Strategy:\n",
    "\n",
    "- nucleotide sequence is available, needs to be trimmed and aligned\n",
    "- can be one-hot-encoded by position and nucleotide (pos1_A: T/F, pos1_T: T/F, ...)\n",
    "- test and apply different ML models:\n",
    "  - tree-based models including feature importance: Random Forest (RF), gradient boosting (GB)\n",
    "  - NN-based models without feature importance: MLP, CNN\n"
   ]
  },
  {
   "cell_type": "markdown",
   "id": "a311c3dc-8e3e-4c82-892a-c08a867608ab",
   "metadata": {},
   "source": [
    "## Import of required libraries"
   ]
  },
  {
   "cell_type": "code",
   "execution_count": 1,
   "id": "477871e0-7163-4211-ba18-e8a71a6e327e",
   "metadata": {},
   "outputs": [],
   "source": [
    "import pandas as pd\n",
    "import numpy as np\n",
    "import matplotlib.pyplot as plt\n",
    "import matplotlib as mpl\n",
    "import Bio.SeqIO\n",
    "from requests import get\n",
    "from io import StringIO"
   ]
  },
  {
   "cell_type": "markdown",
   "id": "e553477d-dc5c-46c9-8e66-9e06629eeb15",
   "metadata": {},
   "source": [
    "## Data import and re-arrangement\n",
    "\n",
    "The first task is to import the sequence data from a fasta file into a data frame.\n",
    "The data is stored as reference \"genome\" for read mapping, in the [CRISPRi NGS pipeline](https://github.com/m-jahn/CRISPRi-lib-pipe/) on github."
   ]
  },
  {
   "cell_type": "code",
   "execution_count": 2,
   "id": "bbbc1113-e6b9-48ae-ad8d-27e9d41164da",
   "metadata": {},
   "outputs": [
    {
     "name": "stdout",
     "output_type": "stream",
     "text": [
      "<Bio.SeqIO.FastaIO.FastaIterator object at 0x7f695b046a30>\n"
     ]
    }
   ],
   "source": [
    "dir_fasta_db = \"https://github.com/m-jahn/CRISPRi-lib-pipe/raw/main/ref/Synechocystis_v2.fasta\"\n",
    "con_fasta_db = get(dir_fasta_db, allow_redirects = True)\n",
    "fasta_db = Bio.SeqIO.parse(StringIO(con_fasta_db.text), \"fasta\")\n",
    "print(fasta_db)"
   ]
  },
  {
   "cell_type": "code",
   "execution_count": 3,
   "id": "860c13c0-88d2-446f-ac79-09d227389cf8",
   "metadata": {},
   "outputs": [],
   "source": [
    "# iterate through fasta DB connection and save results to list\n",
    "fivep_adapter = \"CAGTGATAGAGATACTGGGAGCTA\"\n",
    "threep_adapter = \"GTTTTAGAGCTAGAAATAGCAAGTTAAAAT\"\n",
    "\n",
    "fasta_id = []\n",
    "fasta_seq = []\n",
    "for fasta_record in fasta_db:\n",
    "    fasta_id.append(fasta_record.id)\n",
    "    threep_pos = fasta_record.seq.find(threep_adapter)\n",
    "    fasta_seq.append(fasta_record.seq[len(fivep_adapter) : threep_pos])"
   ]
  },
  {
   "cell_type": "code",
   "execution_count": 4,
   "id": "381449ce-7de5-426b-b457-59ad2e71f188",
   "metadata": {},
   "outputs": [],
   "source": [
    "# make new pd data frame from lists\n",
    "fasta_df = pd.DataFrame()"
   ]
  },
  {
   "cell_type": "code",
   "execution_count": 5,
   "id": "04933036-44e9-4cdd-beeb-8b767b5129f3",
   "metadata": {},
   "outputs": [],
   "source": [
    "fasta_df[\"sgRNA\"] = fasta_id\n",
    "fasta_df[\"seq\"] = fasta_seq\n",
    "fasta_df[\"seq_len\"] = [len(str(i)) for i in fasta_seq]"
   ]
  },
  {
   "cell_type": "markdown",
   "id": "1e4f178d-2279-475d-b414-c03a6ee7c351",
   "metadata": {},
   "source": [
    "The second task is to import the main data table with fitness, correlation and repression efficiency for every sgRNA."
   ]
  },
  {
   "cell_type": "code",
   "execution_count": 6,
   "id": "6b2e8ac9-36fb-4a9b-bb92-b63cdac137f2",
   "metadata": {},
   "outputs": [
    {
     "data": {
      "text/html": [
       "<div>\n",
       "<style scoped>\n",
       "    .dataframe tbody tr th:only-of-type {\n",
       "        vertical-align: middle;\n",
       "    }\n",
       "\n",
       "    .dataframe tbody tr th {\n",
       "        vertical-align: top;\n",
       "    }\n",
       "\n",
       "    .dataframe thead th {\n",
       "        text-align: right;\n",
       "    }\n",
       "</style>\n",
       "<table border=\"1\" class=\"dataframe\">\n",
       "  <thead>\n",
       "    <tr style=\"text-align: right;\">\n",
       "      <th></th>\n",
       "      <th>sgRNA</th>\n",
       "      <th>sgRNA_target</th>\n",
       "      <th>sgRNA_position</th>\n",
       "      <th>condition</th>\n",
       "      <th>time</th>\n",
       "      <th>log2FoldChange</th>\n",
       "      <th>fitness</th>\n",
       "      <th>sgRNA_index</th>\n",
       "      <th>sgRNA_type</th>\n",
       "      <th>locus</th>\n",
       "      <th>sgRNA_correlation</th>\n",
       "      <th>sgRNA_efficiency</th>\n",
       "    </tr>\n",
       "  </thead>\n",
       "  <tbody>\n",
       "    <tr>\n",
       "      <th>0</th>\n",
       "      <td>aat|22</td>\n",
       "      <td>aat</td>\n",
       "      <td>22</td>\n",
       "      <td>HC, HL</td>\n",
       "      <td>0</td>\n",
       "      <td>0.000000</td>\n",
       "      <td>0.060240</td>\n",
       "      <td>1</td>\n",
       "      <td>gene</td>\n",
       "      <td>sll0869</td>\n",
       "      <td>0.495179</td>\n",
       "      <td>0.402167</td>\n",
       "    </tr>\n",
       "    <tr>\n",
       "      <th>1</th>\n",
       "      <td>aat|22</td>\n",
       "      <td>aat</td>\n",
       "      <td>22</td>\n",
       "      <td>HC, HL</td>\n",
       "      <td>4</td>\n",
       "      <td>0.011120</td>\n",
       "      <td>0.060240</td>\n",
       "      <td>1</td>\n",
       "      <td>gene</td>\n",
       "      <td>sll0869</td>\n",
       "      <td>0.495179</td>\n",
       "      <td>0.402167</td>\n",
       "    </tr>\n",
       "    <tr>\n",
       "      <th>2</th>\n",
       "      <td>aat|22</td>\n",
       "      <td>aat</td>\n",
       "      <td>22</td>\n",
       "      <td>HC, HL</td>\n",
       "      <td>8</td>\n",
       "      <td>0.054991</td>\n",
       "      <td>0.060240</td>\n",
       "      <td>1</td>\n",
       "      <td>gene</td>\n",
       "      <td>sll0869</td>\n",
       "      <td>0.495179</td>\n",
       "      <td>0.402167</td>\n",
       "    </tr>\n",
       "    <tr>\n",
       "      <th>3</th>\n",
       "      <td>aat|22</td>\n",
       "      <td>aat</td>\n",
       "      <td>22</td>\n",
       "      <td>HC, HL</td>\n",
       "      <td>10</td>\n",
       "      <td>0.091747</td>\n",
       "      <td>0.060240</td>\n",
       "      <td>1</td>\n",
       "      <td>gene</td>\n",
       "      <td>sll0869</td>\n",
       "      <td>0.495179</td>\n",
       "      <td>0.402167</td>\n",
       "    </tr>\n",
       "    <tr>\n",
       "      <th>4</th>\n",
       "      <td>aat|22</td>\n",
       "      <td>aat</td>\n",
       "      <td>22</td>\n",
       "      <td>HC, IL</td>\n",
       "      <td>0</td>\n",
       "      <td>0.000000</td>\n",
       "      <td>0.354815</td>\n",
       "      <td>1</td>\n",
       "      <td>gene</td>\n",
       "      <td>sll0869</td>\n",
       "      <td>0.495179</td>\n",
       "      <td>0.402167</td>\n",
       "    </tr>\n",
       "  </tbody>\n",
       "</table>\n",
       "</div>"
      ],
      "text/plain": [
       "    sgRNA sgRNA_target  sgRNA_position condition  time  log2FoldChange  \\\n",
       "0  aat|22          aat              22    HC, HL     0        0.000000   \n",
       "1  aat|22          aat              22    HC, HL     4        0.011120   \n",
       "2  aat|22          aat              22    HC, HL     8        0.054991   \n",
       "3  aat|22          aat              22    HC, HL    10        0.091747   \n",
       "4  aat|22          aat              22    HC, IL     0        0.000000   \n",
       "\n",
       "    fitness  sgRNA_index sgRNA_type    locus  sgRNA_correlation  \\\n",
       "0  0.060240            1       gene  sll0869           0.495179   \n",
       "1  0.060240            1       gene  sll0869           0.495179   \n",
       "2  0.060240            1       gene  sll0869           0.495179   \n",
       "3  0.060240            1       gene  sll0869           0.495179   \n",
       "4  0.354815            1       gene  sll0869           0.495179   \n",
       "\n",
       "   sgRNA_efficiency  \n",
       "0          0.402167  \n",
       "1          0.402167  \n",
       "2          0.402167  \n",
       "3          0.402167  \n",
       "4          0.402167  "
      ]
     },
     "execution_count": 6,
     "metadata": {},
     "output_type": "execute_result"
    }
   ],
   "source": [
    "data = pd.read_csv(\"../data/output/fitness_sgRNA.csv\")\n",
    "data.iloc[:, 0:14].head(n = 5)"
   ]
  },
  {
   "cell_type": "markdown",
   "id": "f5a7bb6d-e7b9-419b-aa2b-6e1fd69f4afb",
   "metadata": {},
   "source": [
    "The data frame needs to be reduced/summarized to the desired shape. We don't need fitness and log2FC for all conditions and time points.\n",
    "All we need instead is 1 sgRNA per row, with:\n",
    "\n",
    "- mean absolute fitness effect over all conditions\n",
    "- repression efficiency (relative score between 0 and 1)\n",
    "- correlation (also relative score between 0 and 1)"
   ]
  },
  {
   "cell_type": "code",
   "execution_count": 7,
   "id": "098704bb-2ea7-45df-a083-b2b2450836c1",
   "metadata": {},
   "outputs": [],
   "source": [
    "data_reduced = data[[\"sgRNA\", \"sgRNA_target\", \"sgRNA_position\", \"sgRNA_correlation\", \"sgRNA_efficiency\", \"fitness\"]]"
   ]
  },
  {
   "cell_type": "code",
   "execution_count": 8,
   "id": "0c3b768d-11d6-4b08-9aae-dabf25a6b07d",
   "metadata": {},
   "outputs": [],
   "source": [
    "data_reduced = data_reduced.drop_duplicates()"
   ]
  },
  {
   "cell_type": "code",
   "execution_count": 9,
   "id": "fb8d6d67-0ed7-4cc2-aad7-df2602a56b61",
   "metadata": {},
   "outputs": [],
   "source": [
    "# summarize all sgRNAs to mean abs fitness etc\n",
    "data_reduced[\"fitness\"] = abs(data_reduced[\"fitness\"])\n",
    "data_reduced = data_reduced.groupby([\"sgRNA_target\", \"sgRNA\"]).mean()"
   ]
  },
  {
   "cell_type": "markdown",
   "id": "5fd8132d-51b9-48e4-9f3a-2d7f2039d0f1",
   "metadata": {
    "tags": []
   },
   "source": [
    "## Preparation for ML training and tuning\n",
    "\n",
    "1. Remove non-responsive genes (no sgRNA has an effect on fitness)\n",
    "2. Choose and optionally scale/bin target variable\n",
    "3. One-hot encode sgRNA sequences\n",
    "4. Split data into training and test data set\n",
    "\n",
    "### Task 1: Remove non-responsive genes\n",
    "\n",
    "Plot distribution of sgRNA fitness."
   ]
  },
  {
   "cell_type": "code",
   "execution_count": 10,
   "id": "45b722a3-4af5-4743-a769-2afb4162c3eb",
   "metadata": {},
   "outputs": [
    {
     "data": {
      "image/png": "[encoded data removed]",
      "text/plain": [
       "<Figure size 432x288 with 1 Axes>"
      ]
     },
     "metadata": {
      "needs_background": "light"
     },
     "output_type": "display_data"
    }
   ],
   "source": [
    "plt.hist(abs(data_reduced[\"fitness\"]), bins = 30);"
   ]
  },
  {
   "cell_type": "code",
   "execution_count": 11,
   "id": "361fd994-b002-49f3-a1ba-6f4de0a178a8",
   "metadata": {},
   "outputs": [
    {
     "data": {
      "image/png": "[encoded data removed]",
      "text/plain": [
       "<Figure size 432x288 with 1 Axes>"
      ]
     },
     "metadata": {
      "needs_background": "light"
     },
     "output_type": "display_data"
    }
   ],
   "source": [
    "plt.hist(abs(data_reduced[\"fitness\"]), bins = 30, log=True);"
   ]
  },
  {
   "cell_type": "code",
   "execution_count": 12,
   "id": "4e5d46ad-1e11-4f83-a78c-ffe68c764937",
   "metadata": {},
   "outputs": [],
   "source": [
    "# filter all genes out where no sgRNA exceeds fitness effect > 1 in any condition\n",
    "list_max_fitness = data_reduced.groupby(\"sgRNA_target\")[\"fitness\"].max()"
   ]
  },
  {
   "cell_type": "code",
   "execution_count": 13,
   "id": "d34d0309-2deb-44ef-bf4d-8c255f1fc7cc",
   "metadata": {},
   "outputs": [],
   "source": [
    "list_max_fitness = list_max_fitness[abs(list_max_fitness) > 1]"
   ]
  },
  {
   "cell_type": "code",
   "execution_count": 14,
   "id": "1cc7acff-e71b-4e09-8934-55e021661589",
   "metadata": {},
   "outputs": [
    {
     "data": {
      "text/html": [
       "<div>\n",
       "<style scoped>\n",
       "    .dataframe tbody tr th:only-of-type {\n",
       "        vertical-align: middle;\n",
       "    }\n",
       "\n",
       "    .dataframe tbody tr th {\n",
       "        vertical-align: top;\n",
       "    }\n",
       "\n",
       "    .dataframe thead th {\n",
       "        text-align: right;\n",
       "    }\n",
       "</style>\n",
       "<table border=\"1\" class=\"dataframe\">\n",
       "  <thead>\n",
       "    <tr style=\"text-align: right;\">\n",
       "      <th></th>\n",
       "      <th>sgRNA_target</th>\n",
       "      <th>sgRNA</th>\n",
       "      <th>sgRNA_position</th>\n",
       "      <th>sgRNA_correlation</th>\n",
       "      <th>sgRNA_efficiency</th>\n",
       "      <th>fitness_x</th>\n",
       "      <th>fitness_y</th>\n",
       "    </tr>\n",
       "  </thead>\n",
       "  <tbody>\n",
       "    <tr>\n",
       "      <th>0</th>\n",
       "      <td>Era</td>\n",
       "      <td>Era|10</td>\n",
       "      <td>10.0</td>\n",
       "      <td>0.981797</td>\n",
       "      <td>0.308089</td>\n",
       "      <td>0.974606</td>\n",
       "      <td>3.522669</td>\n",
       "    </tr>\n",
       "    <tr>\n",
       "      <th>1</th>\n",
       "      <td>Era</td>\n",
       "      <td>Era|25</td>\n",
       "      <td>25.0</td>\n",
       "      <td>0.972385</td>\n",
       "      <td>0.622677</td>\n",
       "      <td>1.861402</td>\n",
       "      <td>3.522669</td>\n",
       "    </tr>\n",
       "    <tr>\n",
       "      <th>2</th>\n",
       "      <td>Era</td>\n",
       "      <td>Era|39</td>\n",
       "      <td>39.0</td>\n",
       "      <td>0.975454</td>\n",
       "      <td>0.218752</td>\n",
       "      <td>0.885958</td>\n",
       "      <td>3.522669</td>\n",
       "    </tr>\n",
       "    <tr>\n",
       "      <th>3</th>\n",
       "      <td>Era</td>\n",
       "      <td>Era|64</td>\n",
       "      <td>64.0</td>\n",
       "      <td>0.976020</td>\n",
       "      <td>0.290091</td>\n",
       "      <td>0.907332</td>\n",
       "      <td>3.522669</td>\n",
       "    </tr>\n",
       "    <tr>\n",
       "      <th>4</th>\n",
       "      <td>Era</td>\n",
       "      <td>Era|76</td>\n",
       "      <td>76.0</td>\n",
       "      <td>0.610723</td>\n",
       "      <td>1.000000</td>\n",
       "      <td>3.522669</td>\n",
       "      <td>3.522669</td>\n",
       "    </tr>\n",
       "  </tbody>\n",
       "</table>\n",
       "</div>"
      ],
      "text/plain": [
       "  sgRNA_target   sgRNA  sgRNA_position  sgRNA_correlation  sgRNA_efficiency  \\\n",
       "0          Era  Era|10            10.0           0.981797          0.308089   \n",
       "1          Era  Era|25            25.0           0.972385          0.622677   \n",
       "2          Era  Era|39            39.0           0.975454          0.218752   \n",
       "3          Era  Era|64            64.0           0.976020          0.290091   \n",
       "4          Era  Era|76            76.0           0.610723          1.000000   \n",
       "\n",
       "   fitness_x  fitness_y  \n",
       "0   0.974606   3.522669  \n",
       "1   1.861402   3.522669  \n",
       "2   0.885958   3.522669  \n",
       "3   0.907332   3.522669  \n",
       "4   3.522669   3.522669  "
      ]
     },
     "execution_count": 14,
     "metadata": {},
     "output_type": "execute_result"
    }
   ],
   "source": [
    "data_reduced = data_reduced.reset_index().merge(list_max_fitness, on = \"sgRNA_target\")\n",
    "data_reduced.head(5)"
   ]
  },
  {
   "cell_type": "markdown",
   "id": "7807579f-40b0-4a65-adc6-2b67457c9d8e",
   "metadata": {},
   "source": [
    "### Task 2: Scale and bin target variable\n",
    "\n",
    "Target variable is sgRNA efficiency, a relative score between 0 (no effect on fitness) and 1 (maximum effect on fitness).\n",
    "Scaling can therefore be omitted.\n",
    "\n",
    "- if target variable is taken as is, the ML problem becomes a regression problem\n",
    "- if target variable is binned into e.g. 5 bins of width 0.2, the problem becomes a classification problem\n"
   ]
  },
  {
   "cell_type": "code",
   "execution_count": 15,
   "id": "c3ec0583-a300-4e7a-b542-70f4e8d1b2ef",
   "metadata": {},
   "outputs": [],
   "source": [
    "data_reduced[\"efficiency_binned\"] = pd.cut(data_reduced[\"sgRNA_efficiency\"], 3, labels = [\"0-low\", \"1-med\", \"2-high\"])"
   ]
  },
  {
   "cell_type": "code",
   "execution_count": 16,
   "id": "66e1eb1b-7a81-4397-ac2d-a1c22b8ef4f5",
   "metadata": {},
   "outputs": [
    {
     "data": {
      "image/png": "[encoded data removed]",
      "text/plain": [
       "<Figure size 432x288 with 1 Axes>"
      ]
     },
     "metadata": {
      "needs_background": "light"
     },
     "output_type": "display_data"
    }
   ],
   "source": [
    "data_bin_sum = data_reduced.groupby(\"efficiency_binned\").size()\n",
    "plt.bar(x = data_bin_sum.index, height=data_bin_sum);"
   ]
  },
  {
   "cell_type": "markdown",
   "id": "11729882-ea4a-4702-bbbd-aedf8f872f15",
   "metadata": {},
   "source": [
    "### Task 3: Prepare feature matrix\n",
    "\n",
    "- Alignment to left (5') or right (3') end, because sgRNA length varies\n",
    "- sgRNAs have variable length. Need to trim and/or pad them to a common length\n",
    "- One hot encoding of sgRNA sequences"
   ]
  },
  {
   "cell_type": "code",
   "execution_count": 17,
   "id": "26bf4ead-fcb8-4180-9c43-026af9800a73",
   "metadata": {},
   "outputs": [
    {
     "name": "stdout",
     "output_type": "stream",
     "text": [
      "17 22\n"
     ]
    }
   ],
   "source": [
    "# filter fasta df to only sgRNAs that show an effect (common set with data)\n",
    "fasta_df_reduced = pd.merge(fasta_df, data_reduced, how = 'inner', on = 'sgRNA')\n",
    "print(min(fasta_df_reduced.seq_len), max(fasta_df_reduced.seq_len))"
   ]
  },
  {
   "cell_type": "code",
   "execution_count": 18,
   "id": "b1fe68bf-d56d-48ef-8f0c-4236d51eac97",
   "metadata": {},
   "outputs": [
    {
     "name": "stdout",
     "output_type": "stream",
     "text": [
      "GCCCAGTGGCGGCTGTANNN\n"
     ]
    }
   ],
   "source": [
    "# align seq by inverting and optionally trimming and padding with N\n",
    "def align_and_pad(seq, n_max = 25):\n",
    "    inv_seq = seq.reverse_complement().complement()\n",
    "    len_seq = len(inv_seq)\n",
    "    if len_seq < n_max:\n",
    "        inv_seq = inv_seq + \"N\"*(n_max-len_seq)\n",
    "    elif len_seq > n_max:\n",
    "        inv_seq = inv_seq[ : n_max]\n",
    "    return(inv_seq)\n",
    "    \n",
    "# test inversion and padding\n",
    "print(align_and_pad(fasta_df_reduced.seq[0], n_max = 20))"
   ]
  },
  {
   "cell_type": "code",
   "execution_count": 19,
   "id": "b9e9ff2a-3e9a-40ce-a965-c0e6135882c5",
   "metadata": {},
   "outputs": [],
   "source": [
    "# apply to all sgRNAs\n",
    "fasta_df_reduced[\"seq_inv\"] = [align_and_pad(i, n_max = 22) for i in fasta_df_reduced.seq]"
   ]
  },
  {
   "cell_type": "markdown",
   "id": "0b36a9d9-77e1-446d-846d-1c57f4f86b6a",
   "metadata": {},
   "source": [
    "**Shape of the data as input for scikit learn**\n",
    "\n",
    "- data is always a 2D array, shape (n_samples, n_features)\n",
    "- features should be **one hot encoded**: all cateogrical variables are spread to an list/array with binary encoding (0 OR 1) for yes and no"
   ]
  },
  {
   "cell_type": "code",
   "execution_count": 20,
   "id": "323754e8-4393-4770-8628-39c900624125",
   "metadata": {},
   "outputs": [],
   "source": [
    "def onehot(s):\n",
    "    z = []\n",
    "    for nt in str(s):\n",
    "        if not nt in \"AaCcGgTtNn\":\n",
    "            print(\"Non-ATGCU character: \" + nt)\n",
    "            raise Exception\n",
    "        if nt in \"Aa\": z.append(1)\n",
    "        else: z.append(0)\n",
    "        if nt in \"Cc\": z.append(1)\n",
    "        else: z.append(0)\n",
    "        if nt in \"Gg\": z.append(1)\n",
    "        else: z.append(0)\n",
    "        if nt in \"Tt\": z.append(1)\n",
    "        else: z.append(0)\n",
    "        if nt in \"Nn\": z.append(1)\n",
    "        else: z.append(0)\n",
    "    return(z)"
   ]
  },
  {
   "cell_type": "code",
   "execution_count": 21,
   "id": "eb50b37c-1216-4343-a8e4-7cb8345f9930",
   "metadata": {},
   "outputs": [],
   "source": [
    "fasta_df_reduced[\"seq_onehot\"] = fasta_df_reduced.seq_inv.apply(onehot)"
   ]
  },
  {
   "cell_type": "markdown",
   "id": "265d0dde-9928-49a7-9c69-614d64a5e4b6",
   "metadata": {},
   "source": [
    "- finally turn pd.Series/DF into an array with dimensions n_observations X n_features\n",
    "- also turn target variable into an array of length n_observations"
   ]
  },
  {
   "cell_type": "code",
   "execution_count": 22,
   "id": "87b82039-4424-44c9-beda-fda5fb35a5e5",
   "metadata": {},
   "outputs": [],
   "source": [
    "array_fasta = np.array(fasta_df_reduced.seq_onehot.to_list())\n",
    "array_target = fasta_df_reduced.efficiency_binned.to_numpy()"
   ]
  },
  {
   "cell_type": "markdown",
   "id": "e6123e80-195c-455d-91bd-7e3b2a74e8d4",
   "metadata": {},
   "source": [
    "- split into training and validation set (80%/20%)"
   ]
  },
  {
   "cell_type": "code",
   "execution_count": 23,
   "id": "66e3f103-73de-450e-af4d-4b9b142e3184",
   "metadata": {},
   "outputs": [],
   "source": [
    "from sklearn.model_selection import train_test_split\n",
    "x_train, x_test, y_train, y_test = train_test_split(array_fasta, array_target, test_size = 0.25)"
   ]
  },
  {
   "cell_type": "code",
   "execution_count": 24,
   "id": "897be65a-5522-41ea-afc6-8b9982578e68",
   "metadata": {},
   "outputs": [
    {
     "name": "stdout",
     "output_type": "stream",
     "text": [
      "4797\n",
      "1599\n",
      "4797\n",
      "1599\n"
     ]
    }
   ],
   "source": [
    "for i in [x_train, x_test, y_train, y_test]:\n",
    "    print(len(i))"
   ]
  },
  {
   "cell_type": "markdown",
   "id": "e4210d6d-0d07-4357-a259-c5f7c522200f",
   "metadata": {},
   "source": [
    "## Model 1: Support vector machine\n",
    "\n",
    "Some useful advice from the scikit-learn page\n",
    "\n",
    "- Avoiding data copy: Data passed to certain methods will be copied before calling the underlying C implementation. Check if numpy array is C-contiguous by inspecting its flags attribute\n",
    "- Kernel cache size: has a strong impact on run times for larger problems. If you have enough RAM available, increase cache_size to a higher value\n",
    "- Setting C: C is 1 by default and it’s a reasonable default choice. If you have a lot of noisy observations you should decrease it\n",
    "- Larger C values will take more time to train, sometimes up to 10 times longer\n",
    "- SVM algorithms are not scale invariant, so it is highly recommended to scale your data (scale all features to [0,1] or [-1,+1]. This was done in our example.\n",
    "- Kernel functions: can be  one of linear (most simple), polynomial (`degree`, `coef0`), rbf (`gamma` > 0), sigmoid (`coef0`)\n",
    "\n",
    "### Step 1: Hyperparameter tuning\n",
    "\n",
    "- use a subset of data for HP tuning (1000 classifications)"
   ]
  },
  {
   "cell_type": "code",
   "execution_count": 25,
   "id": "644c5976-5159-48fb-a309-af4bfffc0c5a",
   "metadata": {},
   "outputs": [],
   "source": [
    "from sklearn import svm\n",
    "from sklearn.model_selection import GridSearchCV"
   ]
  },
  {
   "cell_type": "code",
   "execution_count": 26,
   "id": "ef590b47-926d-4738-913a-a5d3563d4b4a",
   "metadata": {},
   "outputs": [
    {
     "data": {
      "text/plain": [
       "GridSearchCV(estimator=SVC(),\n",
       "             param_grid={'C': [1, 10], 'gamma': [0.01, 0.1, 1],\n",
       "                         'kernel': ['rbf']})"
      ]
     },
     "execution_count": 26,
     "metadata": {},
     "output_type": "execute_result"
    }
   ],
   "source": [
    "param_grid = {'C': [1, 10], 'kernel': ['rbf'], 'gamma': [0.01, 0.1, 1]}\n",
    "SVM = svm.SVC()\n",
    "SVM_tune = GridSearchCV(SVM, param_grid)\n",
    "SVM_tune.fit(x_train[ : 1000], y_train[ : 1000])"
   ]
  },
  {
   "cell_type": "code",
   "execution_count": 27,
   "id": "f292b975-532e-4213-90d1-e62835307e67",
   "metadata": {},
   "outputs": [
    {
     "name": "stdout",
     "output_type": "stream",
     "text": [
      "{'C': 10, 'gamma': 0.01, 'kernel': 'rbf'}\n"
     ]
    }
   ],
   "source": [
    "SVM_tune_best = SVM_tune.cv_results_[\"rank_test_score\"] == 1\n",
    "SVM_tune_best = SVM_tune.cv_results_[\"params\"][np.where(SVM_tune_best)[0][0]]\n",
    "print(SVM_tune_best)"
   ]
  },
  {
   "cell_type": "markdown",
   "id": "073d3ea8-273f-47ad-bc2b-b3f93bf34066",
   "metadata": {},
   "source": [
    "### Step 2: Fitting one or several SVM models"
   ]
  },
  {
   "cell_type": "code",
   "execution_count": 28,
   "id": "d4751f7a-fdaf-4373-888e-ab3997d156f5",
   "metadata": {},
   "outputs": [],
   "source": [
    "SVM = svm.SVC(**SVM_tune_best, probability = True)\n",
    "SVM_fit = SVM.fit(x_train, y_train)\n",
    "\n",
    "# alternative SVM kernel functions\n",
    "# --------------------------------\n",
    "#svm.SVC(kernel = \"linear\", C = 1)\n",
    "#svm.SVC(kernel = \"poly\", degree = 3, gamma = \"auto\", C = 1)"
   ]
  },
  {
   "cell_type": "code",
   "execution_count": 29,
   "id": "b738adf7-8155-4479-8955-8cb087b6c617",
   "metadata": {},
   "outputs": [
    {
     "data": {
      "text/plain": [
       "array([[0.6365107 , 0.17373966, 0.18974964],\n",
       "       [0.63039976, 0.18874441, 0.18085582],\n",
       "       [0.63158325, 0.16986188, 0.19855487],\n",
       "       ...,\n",
       "       [0.38182348, 0.1662801 , 0.45189642],\n",
       "       [0.58452986, 0.17964318, 0.23582696],\n",
       "       [0.56700527, 0.16405504, 0.26893969]])"
      ]
     },
     "execution_count": 29,
     "metadata": {},
     "output_type": "execute_result"
    }
   ],
   "source": [
    "# predict class for each feature vector of training data\n",
    "y_pred = SVM_fit.predict(x_test)\n",
    "\n",
    "# predict class probability for each feature vector of training data\n",
    "SVM_fit.predict_proba(x_test)"
   ]
  },
  {
   "cell_type": "markdown",
   "id": "396f4451-ace7-4bc8-8914-ead46a0726a9",
   "metadata": {},
   "source": [
    "- test predictive power of the model\n",
    "- predict classes of validation data set and make confusion matrix"
   ]
  },
  {
   "cell_type": "code",
   "execution_count": 30,
   "id": "3492a285-3ef7-4d24-8a8c-4375176cd77f",
   "metadata": {},
   "outputs": [
    {
     "data": {
      "text/plain": [
       "<sklearn.metrics._plot.confusion_matrix.ConfusionMatrixDisplay at 0x7f6954816ac0>"
      ]
     },
     "execution_count": 30,
     "metadata": {},
     "output_type": "execute_result"
    },
    {
     "data": {
      "image/png": "[encoded data removed]",
      "text/plain": [
       "<Figure size 432x288 with 2 Axes>"
      ]
     },
     "metadata": {
      "needs_background": "light"
     },
     "output_type": "display_data"
    }
   ],
   "source": [
    "# x-axis: predictions; y-axis: ground truth\n",
    "from sklearn.metrics import confusion_matrix, ConfusionMatrixDisplay\n",
    "SVM_cm = confusion_matrix(y_test, y_pred, labels = SVM_fit.classes_)\n",
    "SVM_cmplot = ConfusionMatrixDisplay(SVM_cm, display_labels = SVM_fit.classes_)\n",
    "SVM_cmplot.plot()"
   ]
  },
  {
   "cell_type": "markdown",
   "id": "5114a15b-8eb5-4e25-aa3e-daba7fced58b",
   "metadata": {},
   "source": [
    "## Model 2: Random forest or gradient boosting machine\n",
    "\n",
    "- Both model types decision tree based, RF with global tree refinement, GBM with local iterative refinement\n",
    "- Fully tractable models: not only prediction of classes, but also feature importance\n",
    "- Very important aspect of our question: Which positions/nucleotides of the sgRNA are particularly important?\n",
    "- This question is almost more important than prediciting quality of sgRNAs, as it can be used to derive generalized rules"
   ]
  },
  {
   "cell_type": "code",
   "execution_count": null,
   "id": "ec7649f5-fb17-42e3-b287-d094165dde39",
   "metadata": {},
   "outputs": [],
   "source": []
  }
 ],
 "metadata": {
  "kernelspec": {
   "display_name": "Python 3",
   "language": "python",
   "name": "python3"
  },
  "language_info": {
   "codemirror_mode": {
    "name": "ipython",
    "version": 3
   },
   "file_extension": ".py",
   "mimetype": "text/x-python",
   "name": "python",
   "nbconvert_exporter": "python",
   "pygments_lexer": "ipython3",
   "version": "3.9.7"
  }
 },
 "nbformat": 4,
 "nbformat_minor": 5
}
