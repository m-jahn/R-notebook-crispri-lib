{
 "cells": [
  {
   "cell_type": "markdown",
   "id": "74732890-8470-4f03-9592-b4d0054aa1f1",
   "metadata": {
    "tags": []
   },
   "source": [
    "# Jupyter notebook: ncRNA genome mapping and analysis\n",
    "\n",
    "## Overview\n",
    "\n",
    "This Jupyter notebook attempts to map the sequence of a selection of non-coding RNAs (ncRNAs) that showed a differential fitness when targeted with CRISPRi repression. For details see the [CRISPRi library github repository](https://github.com/m-jahn/R-notebook-crispri-lib) that contain this notebook and further information. The R analysis pipeline that led to the selection of the ncRNAs of interest can be viewed on [m-jahn.github.io](https://m-jahn.github.io/R-notebook-crispri-lib/CRISPRi_V2_data_processing.nb.html).\n",
    "\n",
    "Tasks:\n",
    "\n",
    "- import ncRNA sequences; probably also genome in `genbank` format\n",
    "- map ncRNAs to *Synechocystis* sp PCC 6803 genome\n",
    "- structural and/or functional analysis of ncRNAs\n",
    "\n",
    "## Import of required libraries"
   ]
  },
  {
   "cell_type": "code",
   "execution_count": 1,
   "id": "e7f9e03b-c06b-4a41-a115-4098dfbfcfb7",
   "metadata": {},
   "outputs": [],
   "source": [
    "import pandas as pd\n",
    "import numpy as np\n",
    "import matplotlib.pyplot as plt\n",
    "import matplotlib as mpl\n",
    "import seaborn as sb\n",
    "import Bio.Align\n",
    "import Bio.AlignIO\n",
    "import Bio.SeqIO"
   ]
  },
  {
   "cell_type": "markdown",
   "id": "519239a3-77d7-4bd8-9dce-200fe482f5c3",
   "metadata": {},
   "source": [
    "## Import and reshaping of data"
   ]
  },
  {
   "cell_type": "code",
   "execution_count": 2,
   "id": "34b0d6c5-8933-455d-9678-b4bd81eed98f",
   "metadata": {},
   "outputs": [
    {
     "data": {
      "text/html": [
       "<div>\n",
       "<style scoped>\n",
       "    .dataframe tbody tr th:only-of-type {\n",
       "        vertical-align: middle;\n",
       "    }\n",
       "\n",
       "    .dataframe tbody tr th {\n",
       "        vertical-align: top;\n",
       "    }\n",
       "\n",
       "    .dataframe thead th {\n",
       "        text-align: right;\n",
       "    }\n",
       "</style>\n",
       "<table border=\"1\" class=\"dataframe\">\n",
       "  <thead>\n",
       "    <tr style=\"text-align: right;\">\n",
       "      <th></th>\n",
       "      <th>sgRNA_target</th>\n",
       "      <th>sgRNA_number</th>\n",
       "      <th>condition</th>\n",
       "      <th>carbon</th>\n",
       "      <th>light</th>\n",
       "      <th>treatment</th>\n",
       "      <th>mean_fitness</th>\n",
       "      <th>wmean_fitness</th>\n",
       "      <th>top1_fitness</th>\n",
       "      <th>top2_fitness</th>\n",
       "      <th>sd_fitness</th>\n",
       "      <th>p_value</th>\n",
       "      <th>p_value_adj</th>\n",
       "      <th>score</th>\n",
       "      <th>ncRNA_type</th>\n",
       "      <th>sequence</th>\n",
       "      <th>length</th>\n",
       "      <th>direction</th>\n",
       "      <th>locus</th>\n",
       "      <th>comment</th>\n",
       "    </tr>\n",
       "  </thead>\n",
       "  <tbody>\n",
       "    <tr>\n",
       "      <th>0</th>\n",
       "      <td>ncl0110</td>\n",
       "      <td>1</td>\n",
       "      <td>HC, HL</td>\n",
       "      <td>HC</td>\n",
       "      <td>HL</td>\n",
       "      <td>NaN</td>\n",
       "      <td>-6.231719</td>\n",
       "      <td>-6.231719</td>\n",
       "      <td>-6.231719</td>\n",
       "      <td>NaN</td>\n",
       "      <td>NaN</td>\n",
       "      <td>0.04878</td>\n",
       "      <td>0.221471</td>\n",
       "      <td>4.079799</td>\n",
       "      <td>ncRNA</td>\n",
       "      <td>AGTCCTGTTGGTCAAAATAATTTCGTTAAAATTAGCATTAGCATCG...</td>\n",
       "      <td>61</td>\n",
       "      <td>reverse</td>\n",
       "      <td>ncl0110</td>\n",
       "      <td>NaN</td>\n",
       "    </tr>\n",
       "    <tr>\n",
       "      <th>1</th>\n",
       "      <td>ncl0110</td>\n",
       "      <td>1</td>\n",
       "      <td>HC, IL</td>\n",
       "      <td>HC</td>\n",
       "      <td>IL</td>\n",
       "      <td>NaN</td>\n",
       "      <td>-5.638200</td>\n",
       "      <td>-5.638200</td>\n",
       "      <td>-5.638200</td>\n",
       "      <td>NaN</td>\n",
       "      <td>NaN</td>\n",
       "      <td>0.04878</td>\n",
       "      <td>0.236947</td>\n",
       "      <td>3.525842</td>\n",
       "      <td>ncRNA</td>\n",
       "      <td>AGTCCTGTTGGTCAAAATAATTTCGTTAAAATTAGCATTAGCATCG...</td>\n",
       "      <td>61</td>\n",
       "      <td>reverse</td>\n",
       "      <td>ncl0110</td>\n",
       "      <td>NaN</td>\n",
       "    </tr>\n",
       "    <tr>\n",
       "      <th>2</th>\n",
       "      <td>ncl0110</td>\n",
       "      <td>1</td>\n",
       "      <td>HC, LL</td>\n",
       "      <td>HC</td>\n",
       "      <td>LL</td>\n",
       "      <td>NaN</td>\n",
       "      <td>-4.527253</td>\n",
       "      <td>-4.527253</td>\n",
       "      <td>-4.527253</td>\n",
       "      <td>NaN</td>\n",
       "      <td>NaN</td>\n",
       "      <td>0.04878</td>\n",
       "      <td>0.245046</td>\n",
       "      <td>2.765033</td>\n",
       "      <td>ncRNA</td>\n",
       "      <td>AGTCCTGTTGGTCAAAATAATTTCGTTAAAATTAGCATTAGCATCG...</td>\n",
       "      <td>61</td>\n",
       "      <td>reverse</td>\n",
       "      <td>ncl0110</td>\n",
       "      <td>NaN</td>\n",
       "    </tr>\n",
       "    <tr>\n",
       "      <th>3</th>\n",
       "      <td>ncl0110</td>\n",
       "      <td>1</td>\n",
       "      <td>HC, LL, -N</td>\n",
       "      <td>HC</td>\n",
       "      <td>LL</td>\n",
       "      <td>-N</td>\n",
       "      <td>-5.203274</td>\n",
       "      <td>-5.203274</td>\n",
       "      <td>-5.203274</td>\n",
       "      <td>NaN</td>\n",
       "      <td>NaN</td>\n",
       "      <td>0.04878</td>\n",
       "      <td>0.238071</td>\n",
       "      <td>3.243167</td>\n",
       "      <td>ncRNA</td>\n",
       "      <td>AGTCCTGTTGGTCAAAATAATTTCGTTAAAATTAGCATTAGCATCG...</td>\n",
       "      <td>61</td>\n",
       "      <td>reverse</td>\n",
       "      <td>ncl0110</td>\n",
       "      <td>NaN</td>\n",
       "    </tr>\n",
       "    <tr>\n",
       "      <th>4</th>\n",
       "      <td>ncl0110</td>\n",
       "      <td>1</td>\n",
       "      <td>HC, LL, +FL</td>\n",
       "      <td>HC</td>\n",
       "      <td>LL</td>\n",
       "      <td>+FL</td>\n",
       "      <td>-4.752213</td>\n",
       "      <td>-4.752213</td>\n",
       "      <td>-4.752213</td>\n",
       "      <td>NaN</td>\n",
       "      <td>NaN</td>\n",
       "      <td>0.04878</td>\n",
       "      <td>0.251682</td>\n",
       "      <td>2.847279</td>\n",
       "      <td>ncRNA</td>\n",
       "      <td>AGTCCTGTTGGTCAAAATAATTTCGTTAAAATTAGCATTAGCATCG...</td>\n",
       "      <td>61</td>\n",
       "      <td>reverse</td>\n",
       "      <td>ncl0110</td>\n",
       "      <td>NaN</td>\n",
       "    </tr>\n",
       "  </tbody>\n",
       "</table>\n",
       "</div>"
      ],
      "text/plain": [
       "  sgRNA_target  sgRNA_number    condition carbon light treatment  \\\n",
       "0      ncl0110             1       HC, HL     HC    HL       NaN   \n",
       "1      ncl0110             1       HC, IL     HC    IL       NaN   \n",
       "2      ncl0110             1       HC, LL     HC    LL       NaN   \n",
       "3      ncl0110             1   HC, LL, -N     HC    LL        -N   \n",
       "4      ncl0110             1  HC, LL, +FL     HC    LL       +FL   \n",
       "\n",
       "   mean_fitness  wmean_fitness  top1_fitness  top2_fitness  sd_fitness  \\\n",
       "0     -6.231719      -6.231719     -6.231719           NaN         NaN   \n",
       "1     -5.638200      -5.638200     -5.638200           NaN         NaN   \n",
       "2     -4.527253      -4.527253     -4.527253           NaN         NaN   \n",
       "3     -5.203274      -5.203274     -5.203274           NaN         NaN   \n",
       "4     -4.752213      -4.752213     -4.752213           NaN         NaN   \n",
       "\n",
       "   p_value  p_value_adj     score ncRNA_type  \\\n",
       "0  0.04878     0.221471  4.079799      ncRNA   \n",
       "1  0.04878     0.236947  3.525842      ncRNA   \n",
       "2  0.04878     0.245046  2.765033      ncRNA   \n",
       "3  0.04878     0.238071  3.243167      ncRNA   \n",
       "4  0.04878     0.251682  2.847279      ncRNA   \n",
       "\n",
       "                                            sequence  length direction  \\\n",
       "0  AGTCCTGTTGGTCAAAATAATTTCGTTAAAATTAGCATTAGCATCG...      61   reverse   \n",
       "1  AGTCCTGTTGGTCAAAATAATTTCGTTAAAATTAGCATTAGCATCG...      61   reverse   \n",
       "2  AGTCCTGTTGGTCAAAATAATTTCGTTAAAATTAGCATTAGCATCG...      61   reverse   \n",
       "3  AGTCCTGTTGGTCAAAATAATTTCGTTAAAATTAGCATTAGCATCG...      61   reverse   \n",
       "4  AGTCCTGTTGGTCAAAATAATTTCGTTAAAATTAGCATTAGCATCG...      61   reverse   \n",
       "\n",
       "     locus comment  \n",
       "0  ncl0110     NaN  \n",
       "1  ncl0110     NaN  \n",
       "2  ncl0110     NaN  \n",
       "3  ncl0110     NaN  \n",
       "4  ncl0110     NaN  "
      ]
     },
     "execution_count": 2,
     "metadata": {},
     "output_type": "execute_result"
    }
   ],
   "source": [
    "data = pd.read_csv('../data/output/fitness_ncRNA.csv')\n",
    "data.head(n = 5)"
   ]
  },
  {
   "cell_type": "code",
   "execution_count": 3,
   "id": "b1f3680f-2264-4dd8-9f12-612ad42e60d5",
   "metadata": {},
   "outputs": [
    {
     "data": {
      "text/html": [
       "<div>\n",
       "<style scoped>\n",
       "    .dataframe tbody tr th:only-of-type {\n",
       "        vertical-align: middle;\n",
       "    }\n",
       "\n",
       "    .dataframe tbody tr th {\n",
       "        vertical-align: top;\n",
       "    }\n",
       "\n",
       "    .dataframe thead th {\n",
       "        text-align: right;\n",
       "    }\n",
       "</style>\n",
       "<table border=\"1\" class=\"dataframe\">\n",
       "  <thead>\n",
       "    <tr style=\"text-align: right;\">\n",
       "      <th></th>\n",
       "      <th>sequence</th>\n",
       "    </tr>\n",
       "    <tr>\n",
       "      <th>sgRNA_target</th>\n",
       "      <th></th>\n",
       "    </tr>\n",
       "  </thead>\n",
       "  <tbody>\n",
       "    <tr>\n",
       "      <th>ncl0110</th>\n",
       "      <td>[AGTCCTGTTGGTCAAAATAATTTCGTTAAAATTAGCATTAGCATC...</td>\n",
       "    </tr>\n",
       "    <tr>\n",
       "      <th>ncl0200</th>\n",
       "      <td>[GACCACAATTAAGCTGATATCCCCAAGTTGTCCCCCGTTGGCCAT...</td>\n",
       "    </tr>\n",
       "    <tr>\n",
       "      <th>ncl0320</th>\n",
       "      <td>[TGTTATGGATTGTCACCGTCGGATTTGCTTCCATTGGTGCATTGC...</td>\n",
       "    </tr>\n",
       "    <tr>\n",
       "      <th>ncl0360</th>\n",
       "      <td>[ATTGCTAACCAGGCGGCCCTGCGACAGCCCCAAGCTGTCCCCCGT...</td>\n",
       "    </tr>\n",
       "    <tr>\n",
       "      <th>ncl0400</th>\n",
       "      <td>[ATGGGCTAAAAATAAATTTCCCTAGCCCCCTCATACATTCTGAGC...</td>\n",
       "    </tr>\n",
       "  </tbody>\n",
       "</table>\n",
       "</div>"
      ],
      "text/plain": [
       "                                                       sequence\n",
       "sgRNA_target                                                   \n",
       "ncl0110       [AGTCCTGTTGGTCAAAATAATTTCGTTAAAATTAGCATTAGCATC...\n",
       "ncl0200       [GACCACAATTAAGCTGATATCCCCAAGTTGTCCCCCGTTGGCCAT...\n",
       "ncl0320       [TGTTATGGATTGTCACCGTCGGATTTGCTTCCATTGGTGCATTGC...\n",
       "ncl0360       [ATTGCTAACCAGGCGGCCCTGCGACAGCCCCAAGCTGTCCCCCGT...\n",
       "ncl0400       [ATGGGCTAAAAATAAATTTCCCTAGCCCCCTCATACATTCTGAGC..."
      ]
     },
     "execution_count": 3,
     "metadata": {},
     "output_type": "execute_result"
    }
   ],
   "source": [
    "data = data.groupby('sgRNA_target')\n",
    "data_only_targets = data.agg(sequence = pd.NamedAgg(aggfunc = 'unique', column = 'sequence'))\n",
    "data_only_targets.head()"
   ]
  },
  {
   "cell_type": "code",
   "execution_count": 4,
   "id": "6d422a3f-17b1-4f6f-95b0-e3908c0e2c8b",
   "metadata": {},
   "outputs": [
    {
     "name": "stdout",
     "output_type": "stream",
     "text": [
      "ID NC_000911.1\n",
      "Sequence length 3573470\n"
     ]
    }
   ],
   "source": [
    "ref_genome = Bio.SeqIO.parse('/home/michael/Documents/SciLifeLab/Resources/MS/databases/Synechocystis/Synechocystis_PCC6803_NC_000911.gbk', 'genbank')\n",
    "for record in ref_genome:\n",
    "    print('ID %s' % record.id)\n",
    "    print('Sequence length %i' % len(record))"
   ]
  },
  {
   "cell_type": "markdown",
   "id": "54160dd5-a30a-4f35-97d6-c0d506fd7b10",
   "metadata": {},
   "source": [
    "## Simple text-based alignments\n",
    "\n",
    "Now that the reference genome is loaded, how can be align (text-based) sequences to the genbank file?\n",
    "Simple text based alignments can be done in biopython using the `Bio.Align.PairwiseAligner()` function.\n",
    "THe following code chunk is an example."
   ]
  },
  {
   "cell_type": "code",
   "execution_count": 5,
   "id": "9969e3c7-9aee-44a2-8a9e-4c17b396656d",
   "metadata": {},
   "outputs": [
    {
     "name": "stdout",
     "output_type": "stream",
     "text": [
      "Score = 9.4:\n",
      "TACCGAACCCGGATTCGATCGATCGGGATGCA\n",
      "-|--|.||||||||------------------\n",
      "-A--GCACCCGGAT------------------\n",
      "\n",
      "Score = 9.4:\n",
      "TACCGAACCCGGATTCGATCGATCGGGATGCA\n",
      "-|.|--||||||||------------------\n",
      "-AGC--ACCCGGAT------------------\n",
      "\n"
     ]
    }
   ],
   "source": [
    "aligner = Bio.Align.PairwiseAligner()\n",
    "aligner.open_gap_score = -0.5\n",
    "aligner.extend_gap_score = -0.1\n",
    "aligner.target_end_gap_score = 0.0\n",
    "aligner.query_end_gap_score = 0.0\n",
    "alignments = aligner.align('TACCGAACCCGGATTCGATCGATCGGGATGCA', 'AGCACCCGGAT')\n",
    "\n",
    "for i in range(10):\n",
    "    if i < len(alignments):\n",
    "        print('Score = %.1f:' % alignments[i].score)\n",
    "        print(alignments[i])"
   ]
  },
  {
   "cell_type": "markdown",
   "id": "b1df9f23-ec1c-4fae-a726-172658a10b0c",
   "metadata": {},
   "source": [
    "## High performance alignment using external tools\n",
    "\n",
    "The next step is to try to align the ncRNA sequences to the reference genome. This can be very time consuming, so we will try to select a tool that is appropriate for this task. Most importantly, many tools are optimized to align several (shorter) sequences to each other (multiple sequence alignment), while here, we want to align short sequences to a genome, an extremely large single sequence or collection of sequences."
   ]
  },
  {
   "cell_type": "code",
   "execution_count": 6,
   "id": "e8341c01-461f-4fcc-8e63-3b804b3189e4",
   "metadata": {},
   "outputs": [],
   "source": [
    "from Bio.Blast import NCBIWWW\n",
    "from Bio.Blast import NCBIXML"
   ]
  },
  {
   "cell_type": "markdown",
   "id": "1bf86aaa-3260-4747-b72a-a8354a5c17ef",
   "metadata": {},
   "source": [
    "We try a blast search, preferably only for the genome of interest, *Synechocystis* sp. We do this using the `entrez_query` parameter with a custom taxomnoy ID for `Synechocystis sp. PCC 6803`. It roughly has the format `entrez_query='txid1148[ORGN]'`. Additional terms can be combined using ` AND `. It is importnat to note that the result handle for the blast search can only be used for reading results one time, and expires after that.\n",
    "\n",
    "Before submitting sequence data to blast, it is necessary to re-arrange them into a `*.fasta` like format. This seems to speed up retrieval of results from the NCBI server, as opposed to submitting only a raw sequence where retrieval often takes longer or stalls."
   ]
  },
  {
   "cell_type": "code",
   "execution_count": 7,
   "id": "158b8644-07d4-447a-9cc6-b95196c526ec",
   "metadata": {},
   "outputs": [
    {
     "name": "stdout",
     "output_type": "stream",
     "text": [
      "CPU times: user 16.2 s, sys: 1.99 s, total: 18.2 s\n",
      "Wall time: 7h 54min 42s\n"
     ]
    }
   ],
   "source": [
    "%%time\n",
    "\n",
    "file = open('../data/output/ncRNA_alignment.txt', 'w')\n",
    "\n",
    "for index, row in data_only_targets.iterrows():\n",
    "    str_query = '>' + index + '\\n' + row['sequence'][0]\n",
    "    result_handle = NCBIWWW.qblast(\n",
    "        program = 'blastn',\n",
    "        database = 'nt',\n",
    "        sequence = str_query,\n",
    "        entrez_query = 'Synechocystis sp. PCC 6803 chromosome, complete genome')\n",
    "    result_record = NCBIXML.read(result_handle)\n",
    "    for alignment in result_record.alignments:\n",
    "        file.write('alignment of: ' + index + '\\n')\n",
    "        file.write('sequence: ' + alignment.title + '\\n')\n",
    "        file.write('length: ' + str(alignment.length) + '\\n')\n",
    "        file.write(str(alignment.hsps[0]) + '\\n\\n')\n",
    "\n",
    "file.close()"
   ]
  }
 ],
 "metadata": {
  "kernelspec": {
   "display_name": "Python 3",
   "language": "python",
   "name": "python3"
  },
  "language_info": {
   "codemirror_mode": {
    "name": "ipython",
    "version": 3
   },
   "file_extension": ".py",
   "mimetype": "text/x-python",
   "name": "python",
   "nbconvert_exporter": "python",
   "pygments_lexer": "ipython3",
   "version": "3.9.7"
  }
 },
 "nbformat": 4,
 "nbformat_minor": 5
}
